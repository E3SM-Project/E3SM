{
 "cells": [
  {
   "cell_type": "markdown",
   "metadata": {},
   "source": [
    "# Running diagnostics with model vs model"
   ]
  },
  {
   "cell_type": "markdown",
   "metadata": {},
   "source": [
    "This guide covers how to **run E3SM Diagnostics to compare two models.**\n",
    "\n",
    "---"
   ]
  },
  {
   "cell_type": "markdown",
   "metadata": {},
   "source": [
    "First, make sure you are in the correct Anaconda environment that has `acme_diags` installed.\n",
    "\n",
    "In the directory of this Jupyter notebook, we have a file `myparams.py`. The parameters file contains information related to the location of the two models, which sets to use, and more.\n",
    "\n",
    "You can see in the example below that we are comparing two simulations: F1850COSP vs FC5COSP. "
   ]
  },
  {
   "cell_type": "code",
   "execution_count": 4,
   "metadata": {
    "collapsed": true
   },
   "outputs": [],
   "source": [
    "# %load myparams.py\n",
    "reference_data_path = '/p/cscratch/acme/data/test_model_data_for_acme_diags/'\n",
    "ref_name = '20161118.beta0.F1850COSP.ne30_ne30.edison'\n",
    "reference_name = 'ref: beta0.F1850COSP_ne30'\n",
    "\n",
    "test_data_path = '/p/cscratch/acme/data/test_model_data_for_acme_diags/'\n",
    "test_name = '20161118.beta0.FC5COSP.ne30_ne30.edison'\n",
    "short_test_name = 'test: beta0_FC5COSP_ne30'\n",
    "\n",
    "backend = 'mpl'\n",
    "\n",
    "diff_title = 'test mod - ref mod'\n",
    "results_dir = 'model_to_model'\n",
    "\n",
    "sets = ['lat_lon'] #without specifiying this line, all sets will run\n",
    "\n",
    "run_type = 'model_vs_model' #This parameter modifies the look of viewer to accomodate model vs model run. Default setting for run_type is 'model_vs_obs'\n",
    "\n",
    "#For running multiprocessing\n",
    "multiprocessing = True\n",
    "num_workers = 16\n"
   ]
  },
  {
   "cell_type": "markdown",
   "metadata": {},
   "source": [
    "The `mydiags.cfg` in this directory provides information about the diagnostics you are running. We have two runs with two variables (`PRECT` and `SST`) with all seasons selected."
   ]
  },
  {
   "cell_type": "code",
   "execution_count": null,
   "metadata": {
    "collapsed": true
   },
   "outputs": [],
   "source": [
    "# %load mydiags.cfg\n",
    "[#]\n",
    "sets = [\"lat_lon\"]\n",
    "case_id = \"model_vs_model\"\n",
    "variables = [\"PRECT\"]\n",
    "seasons = [\"ANN\", \"DJF\", \"MAM\", \"JJA\", \"SON\"]\n",
    "regions = [\"global\"]\n",
    "test_colormap = \"WhiteBlueGreenYellowRed.rgb\"\n",
    "reference_colormap = \"WhiteBlueGreenYellowRed.rgb\"\n",
    "diff_colormap = \"BrBG\"\n",
    "contour_levels = [0.5, 1, 2, 3, 4, 5, 6, 7, 8, 9, 10, 12, 13, 14, 15, 16]\n",
    "diff_levels = [-5, -4, -3, -2, -1, -0.5, 0.5, 1, 2, 3, 4, 5]\n",
    "\n",
    "\n",
    "[#]\n",
    "sets = [\"lat_lon\"]\n",
    "case_id = \"model_vs_model\"\n",
    "variables = [\"SST\"]\n",
    "seasons = [\"ANN\", \"DJF\", \"MAM\", \"JJA\", \"SON\"]\n",
    "contour_levels = [-1, 0, 1, 3, 6, 9, 12, 15, 18, 20, 22, 24, 26, 28, 29]\n",
    "diff_levels = [-5, -4, -3, -2, -1, -0.5, -0.2, 0.2, 0.5, 1, 2, 3, 4, 5]\n"
   ]
  },
  {
   "cell_type": "markdown",
   "metadata": {},
   "source": [
    "## Actually running this Jupyter notebook"
   ]
  },
  {
   "cell_type": "markdown",
   "metadata": {},
   "source": [
    "The command below will actually run `acme_diags` with the above parameters when the cells are ran. \n",
    "\n",
    "**To get this to work properly, run this Jupyter notebook on aims4.llnl.gov.**\n",
    "On aims4 run the following and find this Jupyter notebook:\n",
    "\n",
    "```\n",
    "git clone git://github.com/E3SM-Project/acme_diags\n",
    "cd acme_diags/examples/model-to-model\n",
    "jupyter notebook\n",
    "```"
   ]
  },
  {
   "cell_type": "code",
   "execution_count": null,
   "metadata": {
    "collapsed": true
   },
   "outputs": [],
   "source": [
    "%%bash\n",
    "acme_diags -p myparams.py -d mydiags.cfg"
   ]
  },
  {
   "cell_type": "markdown",
   "metadata": {},
   "source": [
    "To run the package with the complete variable list:"
   ]
  },
  {
   "cell_type": "code",
   "execution_count": null,
   "metadata": {
    "collapsed": true
   },
   "outputs": [],
   "source": [
    "%%bash\n",
    "acme_diags -p myparams.py"
   ]
  },
  {
   "cell_type": "markdown",
   "metadata": {},
   "source": [
    "Find [here](https://github.com/E3SM-Project/acme_diags/tree/master/acme_diags/driver/default_diags) for the complete .cfg files and you can copy and modify them accordingly for a customerized run."
   ]
  }
 ],
 "metadata": {
  "anaconda-cloud": {},
  "kernelspec": {
   "display_name": "Python 2",
   "language": "python",
   "name": "python2"
  },
  "language_info": {
   "codemirror_mode": {
    "name": "ipython",
    "version": 2
   },
   "file_extension": ".py",
   "mimetype": "text/x-python",
   "name": "python",
   "nbconvert_exporter": "python",
   "pygments_lexer": "ipython2",
   "version": "2.7.14"
  }
 },
 "nbformat": 4,
 "nbformat_minor": 2
}
