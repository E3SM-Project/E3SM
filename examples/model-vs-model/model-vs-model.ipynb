{
 "cells": [
  {
   "cell_type": "markdown",
   "metadata": {},
   "source": [
    "# Running diagnostics with model vs model"
   ]
  },
  {
   "cell_type": "markdown",
   "metadata": {},
   "source": [
    "This guide covers how to **run ACME Diagnostics to compare two models.**\n",
    "\n",
    "---"
   ]
  },
  {
   "cell_type": "markdown",
   "metadata": {},
   "source": [
    "First, make sure you are in the correct Anaconda environment that has `acme_diags` installed.\n",
    "\n",
    "In the directory of this Jupyter notebook, we have a file `myparams.py`. The parameters file contains information related to the location of the two models, which sets to use, and more.\n",
    "\n",
    "You can see in the example below that we are comparing two simulations: F1850COSP vs FC5COSP. "
   ]
  },
  {
   "cell_type": "code",
   "execution_count": null,
   "metadata": {
    "collapsed": true
   },
   "outputs": [],
   "source": [
    "# %load myparams.py\n",
    "reference_data_path = '/p/cscratch/acme/data/test_model_data_for_acme_diags/'\n",
    "ref_name = '20161118.beta0.F1850COSP.ne30_ne30.edison'\n",
    "\n",
    "test_data_path = '/p/cscratch/acme/data/test_model_data_for_acme_diags/'\n",
    "test_name = '20161118.beta0.FC5COSP.ne30_ne30.edison'\n",
    "\n",
    "backend = 'vcs'\n",
    "results_dir = 'model_to_model'\n",
    "\n",
    "sets = ['lat_lon']\n"
   ]
  },
  {
   "cell_type": "markdown",
   "metadata": {},
   "source": [
    "The `mydiags.json` in this directory provides information about the diagnostics you are running. We have two runs with two variables (`TREFHT_LAND` and `SST`) with all seasons selected."
   ]
  },
  {
   "cell_type": "code",
   "execution_count": null,
   "metadata": {
    "collapsed": true
   },
   "outputs": [],
   "source": [
    "# %load mydiags.cfg\n",
    "[Diags]\n",
    "case_id = \"lat_lon_model_to_model\"\n",
    "variables = [\"TREFHT_LAND\"]\n",
    "seasons = [\"ANN\", \"DJF\", \"MAM\", \"JJA\", \"SON\"]\n",
    "contour_levels = [210, 220, 230, 240, 250, 260, 270, 275, 280, 285, 290, 295, 300, 305, 310]\n",
    "diff_levels = [-5, -4, -3, -2, -1, -0.5, -0.2, 0, 0.2, 0.5, 1, 2, 3, 4, 5]\n",
    "\n",
    "[Diags 2]\n",
    "case_id = \"lat_lon_model_to_model\"\n",
    "variables = [\"SST\"]\n",
    "seasons = [\"ANN\", \"DJF\", \"MAM\", \"JJA\", \"SON\"]\n",
    "contour_levels = [-1, 0, 1, 3, 6, 9, 12, 15, 18, 20, 22, 24, 26, 28, 29]\n",
    "diff_levels = [-5, -4, -3, -2, -1, -0.5, -0.2, 0, 0.2, 0.5, 1, 2, 3, 4, 5]"
   ]
  },
  {
   "cell_type": "markdown",
   "metadata": {},
   "source": [
    "## Actually running this Jupyter notebook"
   ]
  },
  {
   "cell_type": "markdown",
   "metadata": {},
   "source": [
    "The command below will actually run `acme_diags` with the above parameters when the cells are ran. \n",
    "\n",
    "**To get this to work properly, run this Jupyter notebook on aims4.llnl.gov.**\n",
    "On aims4 run the following and find this Jupyter notebook:\n",
    "\n",
    "```\n",
    "git clone git://github.com/ACME-Climate/acme_diags\n",
    "cd acme_diags/examples/model-to-model\n",
    "jupyter notebook\n",
    "```"
   ]
  },
  {
   "cell_type": "code",
   "execution_count": null,
   "metadata": {
    "collapsed": true
   },
   "outputs": [],
   "source": [
    "%%bash\n",
    "acme_diags_driver.py -p myparams.py -d mydiags.cfg"
   ]
  }
 ],
 "metadata": {
  "kernelspec": {
   "display_name": "Python 2",
   "language": "python",
   "name": "python2"
  },
  "language_info": {
   "codemirror_mode": {
    "name": "ipython",
    "version": 2
   },
   "file_extension": ".py",
   "mimetype": "text/x-python",
   "name": "python",
   "nbconvert_exporter": "python",
   "pygments_lexer": "ipython2",
   "version": "2.7.13"
  }
 },
 "nbformat": 4,
 "nbformat_minor": 2
}
