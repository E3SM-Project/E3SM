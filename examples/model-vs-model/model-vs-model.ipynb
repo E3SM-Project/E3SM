{
 "cells": [
  {
   "cell_type": "markdown",
   "metadata": {},
   "source": [
    "# Running diagnostics with model vs model"
   ]
  },
  {
   "cell_type": "markdown",
   "metadata": {},
   "source": [
    "This guide covers how to **run E3SM Diagnostics to compare two models.**\n"
   ]
  },
  {
   "cell_type": "markdown",
   "metadata": {},
   "source": [
    "Make sure you're either:\n",
    "* In an environment with `e3sm_diags` installed.\n",
    "  * Either follow [a quickstart guide](https://e3sm-project.github.io/acme_diags/docs/html/quickguides/index.html) or [the instructions here](https://e3sm-project.github.io/acme_diags/docs/html/install.html).\n",
    "* Or have the container downloaded, and download [this script](https://raw.githubusercontent.com/E3SM-Project/acme_diags/master/acme_diags/container/e3sm_diags_container.py) to run it.\n",
    "  * If you're using containers, when you run the software, replace every instance of '`e3sm_diags`' in this guide with `python e3sm_diags_container.py --<your_container_runtime>`.\n",
    "  * See [this guide](https://e3sm-project.github.io/acme_diags/docs/html/quickguides/quick-guide-edison-shifter.html) for more information.\n",
    "\n",
    "In the directory of this Jupyter notebook, we have a file `myparams.py`. The parameters file contains information related to the location of the two models, what plots to create, and more parameters.\n",
    "\n",
    "You can see in the example below that we are comparing two simulations: F1850COSP vs FC5COSP. "
   ]
  },
  {
   "cell_type": "code",
   "execution_count": null,
   "metadata": {},
   "outputs": [],
   "source": [
    "# %load myparams.py\n",
    "# Location of the ref data.\n",
    "reference_data_path = '/p/cscratch/acme/data/test_model_data_for_acme_diags/'\n",
    "# Name of the ref model data, used to find the climo files.\n",
    "ref_name = '20161118.beta0.F1850COSP.ne30_ne30.edison'\n",
    "# An optional, shorter name to be used instead of the ref_name.\n",
    "short_ref_name = 'Ref: beta0.F1850COSP_ne30'\n",
    "\n",
    "# Location of the test data.\n",
    "test_data_path = '/p/cscratch/acme/data/test_model_data_for_acme_diags/'\n",
    "# Name of the test model data, used to find the climo files.\n",
    "test_name = '20161118.beta0.FC5COSP.ne30_ne30.edison'\n",
    "# An optional, shorter name to be used instead of the test_name.\n",
    "short_test_name = 'Test: beta0_FC5COSP_ne30'\n",
    "\n",
    "# What plotsets to run the diags on.\n",
    "sets = ['lat_lon']\n",
    "# Name of the folder where the results are stored.\n",
    "results_dir = 'model_to_model'\n",
    "# This parameter modifies the software to accommodate model vs model runs.\n",
    "# The default setting for run_type is 'model_vs_obs'.\n",
    "run_type = 'model_vs_model' \n",
    "\n",
    "# Below are more optional arguments.\n",
    "\n",
    "# 'mpl' is to create matplotlib plots, 'vcs' is for vcs plots.\n",
    "backend = 'mpl'\n",
    "# Title of the difference plots.\n",
    "diff_title = 'Test Model - Ref Model'\n",
    "# For running with multiprocessing.\n",
    "multiprocessing = True\n",
    "num_workers = 16\n"
   ]
  },
  {
   "cell_type": "markdown",
   "metadata": {},
   "source": [
    "The `mydiags.cfg` in this directory provides information about the diagnostics you are running. We have two runs with two variables (`PRECT` and `SST`) with all seasons selected."
   ]
  },
  {
   "cell_type": "code",
   "execution_count": null,
   "metadata": {},
   "outputs": [],
   "source": [
    "# %load mydiags.cfg\n",
    "[#]\n",
    "sets = [\"lat_lon\"]\n",
    "case_id = \"model_vs_model\"\n",
    "variables = [\"PRECT\"]\n",
    "seasons = [\"ANN\", \"DJF\", \"MAM\", \"JJA\", \"SON\"]\n",
    "regions = [\"global\"]\n",
    "test_colormap = \"WhiteBlueGreenYellowRed.rgb\"\n",
    "reference_colormap = \"WhiteBlueGreenYellowRed.rgb\"\n",
    "diff_colormap = \"BrBG\"\n",
    "contour_levels = [0.5, 1, 2, 3, 4, 5, 6, 7, 8, 9, 10, 12, 13, 14, 15, 16]\n",
    "diff_levels = [-5, -4, -3, -2, -1, -0.5, 0.5, 1, 2, 3, 4, 5]\n",
    "\n",
    "[#]\n",
    "sets = [\"lat_lon\"]\n",
    "case_id = \"model_vs_model\"\n",
    "variables = [\"SST\"]\n",
    "seasons = [\"ANN\", \"DJF\", \"MAM\", \"JJA\", \"SON\"]\n",
    "contour_levels = [-1, 0, 1, 3, 6, 9, 12, 15, 18, 20, 22, 24, 26, 28, 29]\n",
    "diff_levels = [-5, -4, -3, -2, -1, -0.5, -0.2, 0.2, 0.5, 1, 2, 3, 4, 5]\n",
    "\n"
   ]
  },
  {
   "cell_type": "markdown",
   "metadata": {},
   "source": [
    "## Actually running this Jupyter notebook"
   ]
  },
  {
   "cell_type": "markdown",
   "metadata": {},
   "source": [
    "The command below will actually run `e3sm_diags` with the above parameters when the cells are ran. \n",
    "\n",
    "To get this to work properly, run this Jupyter notebook on acme1.llnl.gov or aims4.llnl.gov.\n",
    "**To run on other machines, just change the `reference_data_path` and `test_data_path` parameter.**\n",
    "Run the following to find this Jupyter notebook:\n",
    "\n",
    "```\n",
    "git clone git://github.com/E3SM-Project/acme_diags\n",
    "cd acme_diags/examples/model-vs-model\n",
    "jupyter notebook\n",
    "```"
   ]
  },
  {
   "cell_type": "code",
   "execution_count": null,
   "metadata": {
    "collapsed": true
   },
   "outputs": [],
   "source": [
    "%%bash\n",
    "e3sm_diags -p myparams.py -d mydiags.cfg"
   ]
  },
  {
   "cell_type": "markdown",
   "metadata": {},
   "source": [
    "To run the package with the complete variable list:"
   ]
  },
  {
   "cell_type": "code",
   "execution_count": null,
   "metadata": {
    "collapsed": true
   },
   "outputs": [],
   "source": [
    "%%bash\n",
    "e3sm_diags -p myparams.py"
   ]
  },
  {
   "cell_type": "markdown",
   "metadata": {},
   "source": [
    "Look [here](https://github.com/E3SM-Project/acme_diags/tree/master/acme_diags/driver/default_diags) for the complete .cfg files and you can copy and modify them accordingly for a customerized run."
   ]
  }
 ],
 "metadata": {
  "anaconda-cloud": {},
  "kernelspec": {
   "display_name": "Python 2",
   "language": "python",
   "name": "python2"
  },
  "language_info": {
   "codemirror_mode": {
    "name": "ipython",
    "version": 2
   },
   "file_extension": ".py",
   "mimetype": "text/x-python",
   "name": "python",
   "nbconvert_exporter": "python",
   "pygments_lexer": "ipython2",
   "version": "2.7.14"
  }
 },
 "nbformat": 4,
 "nbformat_minor": 2
}
