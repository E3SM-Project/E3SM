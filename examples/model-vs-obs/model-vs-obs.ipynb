{
 "cells": [
  {
   "cell_type": "markdown",
   "metadata": {},
   "source": [
    "# Comparing model and reanalysis data for surface air temperature for two areas: over land and globally"
   ]
  },
  {
   "cell_type": "markdown",
   "metadata": {},
   "source": [
    "This guide covers how to compare the surface air temperature using ERA-Interim data to the model output."
   ]
  },
  {
   "cell_type": "markdown",
   "metadata": {},
   "source": [
    "Make sure you're either:\n",
    "* In an environment with `e3sm_diags` installed.\n",
    "  * Either follow [a quickstart guide](https://e3sm-project.github.io/acme_diags/docs/html/quickguides/index.html) or [the instructions here](https://e3sm-project.github.io/acme_diags/docs/html/install.html).\n",
    "* Or have the container downloaded, and download [this script](https://raw.githubusercontent.com/E3SM-Project/acme_diags/master/acme_diags/container/e3sm_diags_container.py) to run it.\n",
    "  * If you're using containers, when you run the software, replace every instance of '`e3sm_diags`' in this guide with `python e3sm_diags_container.py --<your_container_runtime>`.\n",
    "  * See [this guide](https://e3sm-project.github.io/acme_diags/docs/html/quickguides/quick-guide-edison-shifter.html) for more information.\n",
    "\n",
    "In the directory of this Jupyter notebook, we have a file `myparams.py`. The parameters file contains information related to the location of the model/obs, what plots to create, and more parameters."
   ]
  },
  {
   "cell_type": "code",
   "execution_count": null,
   "metadata": {},
   "outputs": [],
   "source": [
    "# %load myparams.py\n",
    "# Location of the data.\n",
    "reference_data_path = '/p/cscratch/acme/data/obs_for_acme_diags/'\n",
    "test_data_path = '/p/cscratch/acme/data/test_model_data_for_acme_diags/'\n",
    "# Name of the test model data, used to find the climo files.\n",
    "test_name = '20161118.beta0.FC5COSP.ne30_ne30.edison'\n",
    "# An optional, shorter name to be used instead of the test_name.\n",
    "short_test_name = 'beta0.FC5COSP.ne30'\n",
    "\n",
    "# What plotsets to run the diags on.\n",
    "sets = ['lat_lon']\n",
    "# Name of the folder where the results are stored.\n",
    "results_dir = 'era_tas_land'\n",
    "\n",
    "# Below are more optional arguments.\n",
    "\n",
    "# 'mpl' is to create matplotlib plots, 'vcs' is for vcs plots.\n",
    "backend = 'mpl'\n",
    "# Title of the difference plots.\n",
    "diff_title = 'Model - Obs.'\n",
    "# Save the netcdf files for each of the ref, test, and diff plot.\n",
    "save_netcdf = True\n"
   ]
  },
  {
   "cell_type": "markdown",
   "metadata": {
    "collapsed": true
   },
   "source": [
    "The `mydiags.cfg` specifies information about the diagnostics you are running. You can see that we are running for the surface air temperature (`TREFHT`) over regions: land and global. We're doing this for four seasons and also annual mean. \n"
   ]
  },
  {
   "cell_type": "code",
   "execution_count": null,
   "metadata": {},
   "outputs": [],
   "source": [
    "# %load mydiags.cfg\n",
    "\n",
    "[#]\n",
    "sets = [\"lat_lon\"]\n",
    "case_id = \"ERA-Interim\"\n",
    "variables = [\"TREFHT\"]\n",
    "regions = [\"land\", \"global\"]\n",
    "ref_name = \"ERA-Interim\"\n",
    "reference_name = \"ERA-Interim Reanalysis 1980-2016\"\n",
    "seasons = [\"ANN\", \"DJF\", \"MAM\", \"JJA\", \"SON\"]\n",
    "contour_levels = [-35, -30, -25, -20, -15, -10, -5, 0, 5, 10, 15, 20, 25, 30, 35, 40]\n",
    "diff_levels = [-15, -10, -5, -2, -1, -0.5, -0.2, 0, 0.2, 0.5, 1, 2, 5, 10, 15]\n"
   ]
  },
  {
   "cell_type": "markdown",
   "metadata": {},
   "source": [
    "## Actually running this Jupyter notebook"
   ]
  },
  {
   "cell_type": "markdown",
   "metadata": {},
   "source": [
    "The command below will actually run `e3sm_diags` with the above parameters when the cells are ran. \n",
    "\n",
    "To get this to work properly, run this Jupyter notebook on acme1.llnl.gov or aims4.llnl.gov.\n",
    "**To run on other machines, just change the `reference_data_path` and `test_data_path` parameter.**\n",
    "Run the following to find this Jupyter notebook:\n",
    "\n",
    "```\n",
    "git clone git://github.com/E3SM-Project/acme_diags\n",
    "cd acme_diags/examples/model-vs-obs\n",
    "jupyter notebook\n",
    "```"
   ]
  },
  {
   "cell_type": "code",
   "execution_count": null,
   "metadata": {},
   "outputs": [],
   "source": [
    "%%bash\n",
    "e3sm_diags -p myparams.py -d mydiags.cfg"
   ]
  },
  {
   "cell_type": "markdown",
   "metadata": {},
   "source": [
    "To run the package with the complete variable list:"
   ]
  },
  {
   "cell_type": "code",
   "execution_count": null,
   "metadata": {},
   "outputs": [],
   "source": [
    "%%bash\n",
    "e3sm_diags -p myparams.py"
   ]
  },
  {
   "cell_type": "markdown",
   "metadata": {},
   "source": [
    "Look [here](https://github.com/E3SM-Project/acme_diags/tree/master/acme_diags/driver/default_diags) for the complete .cfg files for the lat_lon plotset and you can copy and modify them accordingly for a customerized run."
   ]
  }
 ],
 "metadata": {
  "anaconda-cloud": {},
  "kernelspec": {
   "display_name": "Python 2",
   "language": "python",
   "name": "python2"
  },
  "language_info": {
   "codemirror_mode": {
    "name": "ipython",
    "version": 2
   },
   "file_extension": ".py",
   "mimetype": "text/x-python",
   "name": "python",
   "nbconvert_exporter": "python",
   "pygments_lexer": "ipython2",
   "version": "2.7.14"
  }
 },
 "nbformat": 4,
 "nbformat_minor": 2
}
