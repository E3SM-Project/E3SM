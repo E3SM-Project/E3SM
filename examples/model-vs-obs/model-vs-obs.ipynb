{
 "cells": [
  {
   "cell_type": "markdown",
   "metadata": {},
   "source": [
    "# Comparing surface air temperature averaged over land and global, between the model and reanalysis data"
   ]
  },
  {
   "cell_type": "raw",
   "metadata": {},
   "source": [
    "This guide covers how to compare the surface air temperature using ERA-Interim data to the model output\n",
    "---"
   ]
  },
  {
   "cell_type": "markdown",
   "metadata": {},
   "source": [
    "First, make sure you are in the correct Anaconda environment that has `acme_diags` installed. Detailed instruction on generating Anconda enviroment can be found [here](https://acme-climate.github.io/acme_diags/docs/html/index.html)\n",
    "\n",
    "In the directory of this Jupyter notebook, we have a file `myparams.py`. The parameters file contains information related to the location of the model/obs."
   ]
  },
  {
   "cell_type": "code",
   "execution_count": null,
   "metadata": {
    "collapsed": true
   },
   "outputs": [],
   "source": [
    "# %load myparams.py\n",
    "reference_data_path = '/p/cscratch/acme/data/obs_for_acme_diags/'\n",
    "test_data_path = '/p/cscratch/acme/data/test_model_data_for_acme_diags/'\n",
    "test_name = '20161118.beta0.FC5COSP.ne30_ne30.edison'  #String to search for test model\n",
    "short_test_name = 'beta0.FC5COSP.ne30'   # user specified name shown on plots\n",
    "\n",
    "backend = 'mpl'                          # select 'matplotlib as backend\n",
    "diff_title = 'model - obs.'\n",
    "sets=['lat_lon']\n",
    "results_dir = 'era_tas_land'\n",
    "\n",
    "save_netcdf = True   #save netcdf file being plotted\n"
   ]
  },
  {
   "cell_type": "markdown",
   "metadata": {
    "collapsed": true
   },
   "source": [
    "The `mydiags.cfg` specifies information about the diagnostics you are running. You can see that we are running for the surface air temperature (`TREFHT`) over regions: land and global. We're doing this for four seasons and also annual mean. \n"
   ]
  },
  {
   "cell_type": "code",
   "execution_count": null,
   "metadata": {
    "collapsed": true
   },
   "outputs": [],
   "source": [
    "# %load mydiags.cfg\n",
    "\n",
    "[#]\n",
    "sets = [\"lat_lon\"]\n",
    "case_id = \"ERA-Interim\"\n",
    "variables = [\"TREFHT\"]\n",
    "regions = [\"land\", \"global\"]\n",
    "ref_name = \"ERA-Interim\"\n",
    "reference_name = \"ERA-Interim Reanalysis 1980-2016\"\n",
    "seasons = [\"ANN\", \"DJF\", \"MAM\", \"JJA\", \"SON\"]\n",
    "contour_levels = [-35, -30, -25, -20, -15, -10, -5, 0, 5, 10, 15, 20, 25, 30, 35, 40]\n",
    "diff_levels = [-15, -10, -5, -2, -1, -0.5, -0.2, 0, 0.2, 0.5, 1, 2, 5, 10, 15]\n"
   ]
  },
  {
   "cell_type": "markdown",
   "metadata": {},
   "source": [
    "## Actually running this Jupyter notebook"
   ]
  },
  {
   "cell_type": "markdown",
   "metadata": {},
   "source": [
    "The command below will actually run `acme_diags` with the above parameters when the cells are ran. \n",
    "\n",
    "**To get this to work properly, run this Jupyter notebook on aims4.llnl.gov.**\n",
    "On aims4 run the following and find this Jupyter notebook:\n",
    "\n",
    "```\n",
    "git clone git://github.com/ACME-Climate/acme_diags\n",
    "cd acme_diags/examples/model-vs-obs\n",
    "jupyter notebook\n",
    "```"
   ]
  },
  {
   "cell_type": "code",
   "execution_count": null,
   "metadata": {
    "collapsed": true
   },
   "outputs": [],
   "source": [
    "%%bash\n",
    "acme_diags -p myparams.py -d mydiags.cfg"
   ]
  },
  {
   "cell_type": "markdown",
   "metadata": {},
   "source": [
    "To run the package with the complete variable list:"
   ]
  },
  {
   "cell_type": "code",
   "execution_count": null,
   "metadata": {
    "collapsed": true
   },
   "outputs": [],
   "source": [
    "%%bash\n",
    "acme_diags -p myparams.py"
   ]
  },
  {
   "cell_type": "markdown",
   "metadata": {},
   "source": [
    "Find [here](https://github.com/ACME-Climate/acme_diags/tree/master/acme_diags/driver/default_diags) for the complete .cfg files and you can copy and modify them accordingly for a customerized run "
   ]
  }
 ],
 "metadata": {
  "anaconda-cloud": {},
  "kernelspec": {
   "display_name": "Python [default]",
   "language": "python",
   "name": "python2"
  },
  "language_info": {
   "codemirror_mode": {
    "name": "ipython",
    "version": 2
   },
   "file_extension": ".py",
   "mimetype": "text/x-python",
   "name": "python",
   "nbconvert_exporter": "python",
   "pygments_lexer": "ipython2",
   "version": "2.7.13"
  }
 },
 "nbformat": 4,
 "nbformat_minor": 2
}
