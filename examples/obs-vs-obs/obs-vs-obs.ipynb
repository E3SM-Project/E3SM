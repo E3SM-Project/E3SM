{
 "cells": [
  {
   "cell_type": "markdown",
   "metadata": {},
   "source": [
    "# Running diagnostics with observation vs observation (i.e., different version of data or same variable from different datasets)"
   ]
  },
  {
   "cell_type": "markdown",
   "metadata": {},
   "source": [
    "This guide covers how to **run E3SM Diagnostics to compare two observational datasets.**\n",
    "\n",
    "---"
   ]
  },
  {
   "cell_type": "markdown",
   "metadata": {},
   "source": [
    "First, make sure you are in the correct Anaconda environment that has `acme_diags` installed.\n",
    "\n",
    "In the directory of this Jupyter notebook, we have a file `myparams.py`. The parameters file contains information related to the locations of the two observational datasets, which sets to use, and more.\n",
    "\n",
    "You can see in the example below that we are comparing CERES EBAF TOA version 2.8 and 4.0. "
   ]
  },
  {
   "cell_type": "code",
   "execution_count": null,
   "metadata": {
    "collapsed": true
   },
   "outputs": [],
   "source": [
    "# %load myparams.py\n",
    "reference_data_path = '/p/cscratch/acme/data/obs_for_acme_diags/'\n",
    "ref_name = 'ceres_ebaf_toa_v2.8'\n",
    "\n",
    "test_data_path = '/p/cscratch/acme/data/obs_for_acme_diags/'\n",
    "test_name = 'ceres_ebaf_toa_v4.0'\n",
    "\n",
    "backend = 'matplotlib'\n",
    "results_dir = 'obs_vs_obs'\n",
    "\n",
    "sets = ['lat_lon']\n",
    "seasons = ['ANN']\n"
   ]
  },
  {
   "cell_type": "markdown",
   "metadata": {},
   "source": [
    "The `mydiags.cfg` in this directory provides information about the diagnostics you are running. We have three runs with three variables (`SWCF`, `LWCF` and `NETCF`) with all seasons selected."
   ]
  },
  {
   "cell_type": "code",
   "execution_count": null,
   "metadata": {},
   "outputs": [],
   "source": [
    "# %load mydiags.cfg\n",
    "[#]\n",
    "case_id = \"lat_lon_model_vs_model\"\n",
    "ref_name = \"ceres_ebaf_toa_v2.8\"\n",
    "reference_name = \"CERES-EBAF Jan 2000-Dec 2015\"\n",
    "variables = [\"SWCF\"]\n",
    "seasons = [\"ANN\", \"DJF\", \"MAM\", \"JJA\", \"SON\"]\n",
    "contour_levels = [-120, -110, -100, -90, -80, -70, -60, -50, -40, -30, -20, -10, 0]\n",
    "diff_levels = [-60, -50, -40, -30, -20, -10, -5, 5, 10, 20, 30, 40, 50, 60]\n",
    "\n",
    "[#]\n",
    "case_id = \"lat_lon_model_vs_model\"\n",
    "ref_name = \"ceres_ebaf_toa_v2.8\"\n",
    "reference_name = \"CERES-EBAF Jan 2000-Dec 2015\"\n",
    "variables = [\"LWCF\"]\n",
    "seasons = [\"ANN\", \"DJF\", \"MAM\", \"JJA\", \"SON\"]\n",
    "contour_levels = [0, 10, 20, 30, 40, 50, 60, 70, 80]\n",
    "diff_levels = [-35, -30, -25, -20, -15, -10, -5, -2, 2, 5, 10, 15, 20, 25, 30, 35]\n",
    "\n",
    "[#]\n",
    "case_id = \"lat_lon_model_vs_model\"\n",
    "ref_name = \"ceres_ebaf_toa_v2.8\"\n",
    "reference_name = \"CERES-EBAF Jan 2000-Dec 2015\"\n",
    "variables = [\"NETCF\"]\n",
    "seasons = [\"ANN\", \"DJF\", \"MAM\", \"JJA\", \"SON\"]\n",
    "contour_levels = [-135, -120, -105, -90, -75, -60, -45, -30, -15, 0, 15, 30, 45]\n",
    "diff_levels = [-75, -50, -40, -30, -20, -10, -5, 5, 10, 20, 30, 40, 50, 75]\n"
   ]
  },
  {
   "cell_type": "markdown",
   "metadata": {},
   "source": [
    "## Actually running this Jupyter notebook"
   ]
  },
  {
   "cell_type": "markdown",
   "metadata": {},
   "source": [
    "The command below will actually run `acme_diags` with the above parameters when the cells are ran. \n",
    "\n",
    "**To get this to work properly, run this Jupyter notebook on aims4.llnl.gov.**\n",
    "On aims4 run the following and find this Jupyter notebook:\n",
    "\n",
    "```\n",
    "git clone git://github.com/E3SM-Project/acme_diags\n",
    "cd acme_diags/examples/obs-to-obs\n",
    "jupyter notebook\n",
    "```"
   ]
  },
  {
   "cell_type": "code",
   "execution_count": null,
   "metadata": {
    "collapsed": true
   },
   "outputs": [],
   "source": [
    "%%bash\n",
    "acme_diags -p myparams.py -d mydiags.cfg"
   ]
  }
 ],
 "metadata": {
  "kernelspec": {
   "display_name": "Python [default]",
   "language": "python",
   "name": "python2"
  },
  "language_info": {
   "codemirror_mode": {
    "name": "ipython",
    "version": 2
   },
   "file_extension": ".py",
   "mimetype": "text/x-python",
   "name": "python",
   "nbconvert_exporter": "python",
   "pygments_lexer": "ipython2",
   "version": "2.7.13"
  }
 },
 "nbformat": 4,
 "nbformat_minor": 2
}
