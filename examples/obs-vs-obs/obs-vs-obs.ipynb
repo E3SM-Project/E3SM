{
 "cells": [
  {
   "cell_type": "markdown",
   "metadata": {},
   "source": [
    "# Running diagnostics with observation vs observation (i.e., different version of data or same variable from different datasets)"
   ]
  },
  {
   "cell_type": "markdown",
   "metadata": {},
   "source": [
    "This guide covers how to **run E3SM Diagnostics to compare two observational datasets.**"
   ]
  },
  {
   "cell_type": "markdown",
   "metadata": {},
   "source": [
    "Make sure you're either:\n",
    "* In an environment with `e3sm_diags` installed.\n",
    "  * Either follow [a quickstart guide](https://e3sm-project.github.io/acme_diags/docs/html/quickguides/index.html) or [the instructions here](https://e3sm-project.github.io/acme_diags/docs/html/install.html).\n",
    "* Or have the container downloaded, and download [this script](https://raw.githubusercontent.com/E3SM-Project/acme_diags/master/acme_diags/container/e3sm_diags_container.py) to run it.\n",
    "  * If you're using containers, when you run the software, replace every instance of '`e3sm_diags`' in this guide with `python e3sm_diags_container.py --<your_container_runtime>`.\n",
    "  * See [this guide](https://e3sm-project.github.io/acme_diags/docs/html/quickguides/quick-guide-edison-shifter.html) for more information.\n",
    "\n",
    "In the directory of this Jupyter notebook, we have a file `myparams.py`. The parameters file contains information related to the location of the two observational datasets, what plots to create, and more parameters.\n",
    "\n",
    "You can see in the example below that we are comparing CERES EBAF TOA version 2.8 and 4.0. "
   ]
  },
  {
   "cell_type": "code",
   "execution_count": null,
   "metadata": {},
   "outputs": [],
   "source": [
    "# %load myparams.py\n",
    "reference_data_path = '/p/cscratch/acme/data/obs_for_acme_diags/'\n",
    "# Name of the ref obs data, used to find the climo files.\n",
    "ref_name = 'ceres_ebaf_toa_v2.8'\n",
    "\n",
    "test_data_path = '/p/cscratch/acme/data/obs_for_acme_diags/'\n",
    "# Name of the test obs data, used to find the climo files.\n",
    "test_name = 'ceres_ebaf_toa_v4.0'\n",
    "\n",
    "# Name of the folder where the results are stored.\n",
    "results_dir = 'obs_vs_obs'\n",
    "# What plotsets to run the diags on.\n",
    "sets = ['lat_lon']\n",
    "\n",
    "# Below are more optional arguments.\n",
    "# What seasons to run the diags on.\n",
    "# If not defined, diags is ran on ['ANN', 'DJF', 'MAM', 'JJA', 'SON'].\n",
    "seasons = ['ANN']\n",
    "# 'mpl' is to create matplotlib plots, 'vcs' is for vcs plots.\n",
    "backend = 'mpl'\n"
   ]
  },
  {
   "cell_type": "markdown",
   "metadata": {},
   "source": [
    "The `mydiags.cfg` in this directory provides information about the diagnostics you are running. We have three runs with three variables (`SWCF`, `LWCF` and `NETCF`) with all seasons selected."
   ]
  },
  {
   "cell_type": "code",
   "execution_count": null,
   "metadata": {},
   "outputs": [],
   "source": [
    "# %load mydiags.cfg\n",
    "[#]\n",
    "sets = ['lat_lon']\n",
    "case_id = \"lat_lon_obs_vs_obs\"\n",
    "ref_name = \"ceres_ebaf_toa_v2.8\"\n",
    "reference_name = \"CERES-EBAF Jan 2000-Dec 2015\"\n",
    "variables = [\"SWCF\"]\n",
    "seasons = [\"ANN\", \"DJF\", \"MAM\", \"JJA\", \"SON\"]\n",
    "contour_levels = [-120, -110, -100, -90, -80, -70, -60, -50, -40, -30, -20, -10, 0]\n",
    "diff_levels = [-60, -50, -40, -30, -20, -10, -5, 5, 10, 20, 30, 40, 50, 60]\n",
    "\n",
    "[#]\n",
    "sets = ['lat_lon']\n",
    "case_id = \"lat_lon_obs_vs_obs\"\n",
    "ref_name = \"ceres_ebaf_toa_v2.8\"\n",
    "reference_name = \"CERES-EBAF Jan 2000-Dec 2015\"\n",
    "variables = [\"LWCF\"]\n",
    "seasons = [\"ANN\", \"DJF\", \"MAM\", \"JJA\", \"SON\"]\n",
    "contour_levels = [0, 10, 20, 30, 40, 50, 60, 70, 80]\n",
    "diff_levels = [-35, -30, -25, -20, -15, -10, -5, -2, 2, 5, 10, 15, 20, 25, 30, 35]\n",
    "\n",
    "[#]\n",
    "sets = ['lat_lon']\n",
    "case_id = \"lat_lon_obs_vs_obs\"\n",
    "ref_name = \"ceres_ebaf_toa_v2.8\"\n",
    "reference_name = \"CERES-EBAF Jan 2000-Dec 2015\"\n",
    "variables = [\"NETCF\"]\n",
    "seasons = [\"ANN\", \"DJF\", \"MAM\", \"JJA\", \"SON\"]\n",
    "contour_levels = [-135, -120, -105, -90, -75, -60, -45, -30, -15, 0, 15, 30, 45]\n",
    "diff_levels = [-75, -50, -40, -30, -20, -10, -5, 5, 10, 20, 30, 40, 50, 75]\n"
   ]
  },
  {
   "cell_type": "markdown",
   "metadata": {},
   "source": [
    "## Actually running this Jupyter notebook"
   ]
  },
  {
   "cell_type": "markdown",
   "metadata": {},
   "source": [
    "The command below will actually run `e3sm_diags` with the above parameters when the cells are ran. \n",
    "\n",
    "To get this to work properly, run this Jupyter notebook on acme1.llnl.gov or aims4.llnl.gov.\n",
    "**To run on other machines, just change the `reference_data_path` and `test_data_path` parameter.**\n",
    "Run the following to find this Jupyter notebook:\n",
    "\n",
    "```\n",
    "git clone git://github.com/E3SM-Project/acme_diags\n",
    "cd acme_diags/examples/obs-to-obs\n",
    "jupyter notebook\n",
    "```"
   ]
  },
  {
   "cell_type": "code",
   "execution_count": null,
   "metadata": {
    "collapsed": true
   },
   "outputs": [],
   "source": [
    "%%bash\n",
    "e3sm_diags -p myparams.py -d mydiags.cfg"
   ]
  }
 ],
 "metadata": {
  "kernelspec": {
   "display_name": "Python 2",
   "language": "python",
   "name": "python2"
  },
  "language_info": {
   "codemirror_mode": {
    "name": "ipython",
    "version": 2
   },
   "file_extension": ".py",
   "mimetype": "text/x-python",
   "name": "python",
   "nbconvert_exporter": "python",
   "pygments_lexer": "ipython2",
   "version": "2.7.14"
  }
 },
 "nbformat": 4,
 "nbformat_minor": 2
}
