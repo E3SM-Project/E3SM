{
 "cells": [
  {
   "cell_type": "markdown",
   "metadata": {},
   "source": [
    "# Model Time-series vs Model Time-series: Historical H1 (2011-2013) vs Historical H1 (1850-1852)"
   ]
  },
  {
   "cell_type": "markdown",
   "metadata": {},
   "source": [
    "This guide covers how to compare different time slices from two models. In this case, we're comparing different three-year time slices from the same model."
   ]
  },
  {
   "cell_type": "markdown",
   "metadata": {},
   "source": [
    "First, make sure you're using version 1.6.0 or greater of `e3sm_diags`.\n",
    "\n",
    "Then make sure you're either:\n",
    "* In an environment with `e3sm_diags` installed.\n",
    "  * Either follow [a quickstart guide](https://e3sm-project.github.io/acme_diags/docs/html/quickguides/index.html) or [the instructions here](https://e3sm-project.github.io/acme_diags/docs/html/install.html).\n",
    "* Or have the container downloaded, and download [this script](https://raw.githubusercontent.com/E3SM-Project/acme_diags/master/acme_diags/container/e3sm_diags_container.py) to run it.\n",
    "  * If you're using containers, when you run the software, replace every instance of '`e3sm_diags`' in this guide with `python e3sm_diags_container.py --<your_container_runtime>`.\n",
    "  * See [this guide](https://e3sm-project.github.io/acme_diags/docs/html/quickguides/quick-guide-edison-shifter.html) for more information.\n",
    "  \n",
    "In the directory of this Jupyter notebook, we have a file `myparams.py`. The parameters file contains information related to the location of the model time-series data, what years to run the diagnostics on, what plots to create, and more parameters."
   ]
  },
  {
   "cell_type": "code",
   "execution_count": null,
   "metadata": {},
   "outputs": [],
   "source": [
    "# %load myparams.py\n",
    "# Location of the data.\n",
    "test_data_path = '/p/user_pub/work/E3SM/1_0/historical_H1/1deg_atm_60-30km_ocean/atmos/129x256/time-series/mon/ens1/v1/'\n",
    "reference_data_path = '/p/user_pub/work/E3SM/1_0/historical_H1/1deg_atm_60-30km_ocean/atmos/129x256/time-series/mon/ens1/v1/'\n",
    "\n",
    "# Set this parameter to True.\n",
    "# By default, e3sm_diags expects the test data to be climo data.\n",
    "test_timeseries_input = True\n",
    "test_start_yr = '2011'\n",
    "test_end_yr = '2013'\n",
    "\n",
    "# Set this parameter to True.\n",
    "# By default, e3sm_diags expects the ref data to be climo data.\n",
    "ref_timeseries_input = True\n",
    "ref_start_yr = '1850'\n",
    "ref_end_yr = '1852'\n",
    "\n",
    "# When running with time-series data, you don't need to specify the name of the data.\n",
    "# But you should, otherwise, nothing is displayed when the test/ref name is needed.\n",
    "short_test_name = 'historical_H1'\n",
    "short_ref_name = 'historical_H1'\n",
    "\n",
    "# This parameter modifies the software to accommodate model vs model runs.\n",
    "# The default setting for run_type is 'model_vs_obs'.\n",
    "run_type = 'model_vs_model'\n",
    "# Name of the folder where the results are stored.\n",
    "results_dir = 'modTS_vs_modTS_3years'\n",
    "\n",
    "# Below are more optional arguments.\n",
    "\n",
    "# What plotsets to run the diags on.\n",
    "# If not defined, then all available sets are used. \n",
    "sets = ['lat_lon']\n",
    "# What seasons to run the diags on.\n",
    "# If not defined, diags is ran on ['ANN', 'DJF', 'MAM', 'JJA', 'SON'].\n",
    "seasons = ['ANN']\n",
    "# Title of the difference plots.\n",
    "diff_title = 'Model (2011-2013) - Model (1850-1852)'\n",
    "# For running with multiprocessing.\n",
    "multiprocessing = True\n",
    "num_workers = 24\n"
   ]
  },
  {
   "cell_type": "markdown",
   "metadata": {},
   "source": [
    "## Actually running this Jupyter notebook"
   ]
  },
  {
   "cell_type": "markdown",
   "metadata": {},
   "source": [
    "The command below will actually run `e3sm_diags` with the above parameters when the cells are ran. \n",
    "\n",
    "To get this to work properly, run this Jupyter notebook on acme1.llnl.gov or aims4.llnl.gov.\n",
    "**To run on other machines, just change the `reference_data_path` and `test_data_path` parameter.**\n",
    "Run the following to find this Jupyter notebook:\n",
    "\n",
    "```\n",
    "git clone git://github.com/E3SM-Project/acme_diags\n",
    "cd acme_diags/examples/model_ts-vs-model_ts\n",
    "jupyter notebook\n",
    "```"
   ]
  },
  {
   "cell_type": "code",
   "execution_count": null,
   "metadata": {},
   "outputs": [],
   "source": [
    "%%bash\n",
    "e3sm_diags -p myparams.py"
   ]
  },
  {
   "cell_type": "markdown",
   "metadata": {},
   "source": [
    "## Viewing the results"
   ]
  },
  {
   "cell_type": "markdown",
   "metadata": {},
   "source": [
    "The results of this Jupyter notebook are hosted [on the e3sm_diags documentation site](https://e3sm-project.github.io/acme_diags/sample_output/modTS_vs_modTS_3years/viewer/index.html)."
   ]
  }
 ],
 "metadata": {
  "kernelspec": {
   "display_name": "Python 2",
   "language": "python",
   "name": "python2"
  },
  "language_info": {
   "codemirror_mode": {
    "name": "ipython",
    "version": 2
   },
   "file_extension": ".py",
   "mimetype": "text/x-python",
   "name": "python",
   "nbconvert_exporter": "python",
   "pygments_lexer": "ipython2",
   "version": "2.7.14"
  }
 },
 "nbformat": 4,
 "nbformat_minor": 2
}
