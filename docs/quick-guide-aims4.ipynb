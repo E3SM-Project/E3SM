{
 "cells": [
  {
   "cell_type": "markdown",
   "metadata": {},
   "source": [
    "# A Quick Guide on Running ACME Diags on AIMS4 or ACME1"
   ]
  },
  {
   "cell_type": "markdown",
   "metadata": {},
   "source": [
    "If you don't enjoy or can't read a lot, just follow this quick guide to run `acme_diags` on `aims4` or `acme1`."
   ]
  },
  {
   "cell_type": "markdown",
   "metadata": {},
   "source": [
    "1\\. Log on to `aims4`: \n",
    "```\n",
    "ssh -Y aims4.llnl.gov\n",
    "```\n",
    "or `acme1`:\n",
    "```\n",
    "ssh -Y acme1.llnl.gov\n",
    "```\n",
    "\n",
    "2\\. If you don't have Anaconda installed, follow [this guide](https://docs.continuum.io/anaconda/install-linux).\n",
    "\n",
    "3a\\. Remove any cached Anaconda downloaded packages. This guarantees you get the latest packages.\n",
    "```\n",
    "conda clean --all\n",
    "```\n",
    "\n",
    "3b\\. We'll create an Anaconda environment named `acme_diags_env` and install `acme_diags`.\n",
    "* In case you're curious, the command below installs `acme_diags` and all it's dependencies by looking through the `acme`, `conda-forge` (default channel for all software), and `uvcdat` channels in this order.\n",
    "```\n",
    "conda create -n acme_diags_env -c acme -c conda-forge -c uvcdat acme_diags\n",
    "```\n",
    "\n",
    "4\\. Activate the newly created Anaconda environment.\n",
    "```\n",
    "source activate acme_diags_env\n",
    "```\n",
    "\n",
    "4a\\. Install this addon for vcs.\n",
    "\n",
    "```\n",
    "conda install mesalib -c conda-forge -c uvcdat\n",
    "```\n",
    "* This is needed because we don't want to use the X windowing system.\n",
    "\n",
    "5\\. Create a parameters file called `myparams.py`.\n",
    "```\n",
    "touch myparams.py\n",
    "```\n",
    "6\\. Copy and paste the below code into `myparams.py` using your favorite text editor. Adjust any options as you like."
   ]
  },
  {
   "cell_type": "markdown",
   "metadata": {
    "collapsed": true
   },
   "source": [
    "```python\n",
    "reference_data_path = '/p/cscratch/acme/data/obs_for_acme_diags/'\n",
    "test_data_path = '/p/cscratch/acme/data/test_model_data_for_acme_diags/'\n",
    "\n",
    "test_name = '20161118.beta0.FC5COSP.ne30_ne30.edison'\n",
    "\n",
    "sets = [\"lat_lon\"]\n",
    "\n",
    "# optional settings below\n",
    "diff_title = 'Model - Obs'\n",
    "\n",
    "backend = 'vcs'  # 'mpl' is for the matplotlib plots.\n",
    "\n",
    "results_dir = 'lat_lon_demo'  # name of folder where all results will be stored\n",
    "```"
   ]
  },
  {
   "cell_type": "markdown",
   "metadata": {},
   "source": [
    "7\\. By default, all of the ACME diagnostics are ran for the `sets` that we defined above. This takes some time, so we'll create our own diagnostics to be ran. Run the command\n",
    "```\n",
    "touch mydiags.cfg\n",
    "```\n",
    "and paste the code below in `mydiags.cfg`. View [this](./available-parameters.ipynb) document for all available parameters."
   ]
  },
  {
   "cell_type": "markdown",
   "metadata": {},
   "source": [
    "```\n",
    "[Diags]\n",
    "case_id = \"GPCP_v2.2\"\n",
    "variables = [\"PRECT\"]\n",
    "ref_name = \"GPCP_v2.2\"\n",
    "reference_name = \"GPCP (yrs1979-2014)\"\n",
    "seasons = [\"ANN\", \"DJF\"]\n",
    "regions = [\"global\"]\n",
    "test_colormap = \"WhiteBlueGreenYellowRed.rgb\"\n",
    "reference_colormap = \"WhiteBlueGreenYellowRed.rgb\"\n",
    "diff_colormap = \"BrBG\"\n",
    "contour_levels = [0.5, 1, 2, 3, 4, 5, 6, 7, 8, 9, 10, 12, 13, 14, 15, 16]\n",
    "diff_levels = [-5, -4, -3, -2, -1, -0.5, 0.5, 1, 2, 3, 4, 5]\n",
    "\n",
    "[Diags 2]\n",
    "case_id = \"SST_CL_HadISST\"\n",
    "variables = [\"SST\"]\n",
    "ref_name = \"HadISST_CL\"\n",
    "reference_name = \"HadISST/OI.v2 (Climatology) 1982-2001\"\n",
    "seasons = [\"ANN\", \"MAM\"]\n",
    "contour_levels = [-1, 0, 1, 3, 6, 9, 12, 15, 18, 20, 22, 24, 26, 28, 29]\n",
    "diff_levels = [-5, -4, -3, -2, -1, -0.5, -0.2, 0.2, 0.5, 1, 2, 3, 4, 5]\n",
    "\n",
    "```"
   ]
  },
  {
   "cell_type": "markdown",
   "metadata": {},
   "source": [
    "8a\\. Run the diags.\n",
    "```\n",
    "acme_diags_driver.py -p myparams.py -d mydiags.cfg\n",
    "```\n",
    "8b\\. You can even run all of the Latitude-Longitude contour plots.\n",
    "```\n",
    "acme_diags_driver.py -p myparams.py\n",
    "```\n",
    "9\\. Open the following webpage to view the results.\n",
    "```\n",
    "firefox --no-remote lat_lon_demo/viewer/index.html &\n",
    "```\n",
    "* The `--no-remote` option runs this instances of Firefox as a new process, thus loading the results webpage faster. `&` lets Firefox run in the background.\n"
   ]
  },
  {
   "cell_type": "markdown",
   "metadata": {},
   "source": [
    "## More Options"
   ]
  },
  {
   "cell_type": "markdown",
   "metadata": {},
   "source": [
    "* You can modify the `sets` parameters in `myparams.py` to run multiple sets. Possible options are: `'zonal_mean_xy', 'zonal_mean_2d', 'lat_lon, 'polar', 'cosp_histogram'`. If the `sets` parameter is not defined, all of the aforementioned sets are ran. Ex:\n",
    "```python\n",
    "sets = ['zonal_mean_xy', 'zonal_mean_2d', 'lat_lon', 'polar', 'cosp_histogram']\n",
    "```"
   ]
  },
  {
   "cell_type": "markdown",
   "metadata": {},
   "source": [
    "* Diagnostics can be ran in parallel with multi-processing. In `myparams.py`, add `multiprocessing = True` and set `num_workers` to the number of workers you want to use. If `num_workers` is not defined, it will automatically use all of the logical processes on a machine. Ex:\n",
    "```python\n",
    "# myparams.py\n",
    "# In addition to your other parameters, include:\n",
    "multiprocessing = True\n",
    "num_workers = 4\n",
    "```"
   ]
  }
 ],
 "metadata": {
  "kernelspec": {
   "display_name": "Python 2",
   "language": "python",
   "name": "python2"
  },
  "language_info": {
   "codemirror_mode": {
    "name": "ipython",
    "version": 2
   },
   "file_extension": ".py",
   "mimetype": "text/x-python",
   "name": "python",
   "nbconvert_exporter": "python",
   "pygments_lexer": "ipython2",
   "version": "2.7.13"
  }
 },
 "nbformat": 4,
 "nbformat_minor": 2
}
