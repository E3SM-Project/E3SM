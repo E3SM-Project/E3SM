{
 "cells": [
  {
   "cell_type": "markdown",
   "metadata": {},
   "source": [
    "# A Quick Guide on Running ACME Diags on AIMS4"
   ]
  },
  {
   "cell_type": "markdown",
   "metadata": {},
   "source": [
    "If you don't enjoy or can't read a lot, just follow this quick guide to run `acme_diags` on aims4."
   ]
  },
  {
   "cell_type": "markdown",
   "metadata": {},
   "source": [
    "1\\. Log on to aims4: \n",
    "```\n",
    "ssh -Y aims4.llnl.gov\n",
    "```\n",
    "\n",
    "2\\. If you don't have Anaconda installed, follow [this guide](https://docs.continuum.io/anaconda/install-linux).\n",
    "\n",
    "3a\\. Remove any cached Anaconda downloaded packages. This guarantees you get the latest packages.\n",
    "```\n",
    "conda clean --all\n",
    "```\n",
    "\n",
    "3b\\. We'll create an Anaconda environment named `acme_diags_env` and install `acme_diags`.\n",
    "* In case you're curious, the command below installs `acme_diags` and all it's dependencies by looking through the `acme` (nightly), `conda-forge` (default channel for all software), and `uvcdat` (main and nightly) channels.\n",
    "```\n",
    "conda create -n acme_diags_env -c acme/label/nightly -c conda-forge -c uvcdat -c uvcdat/label/nightly acme_diags=2017.06.06\n",
    "```\n",
    "\n",
    "4\\. Activate the newly created Anaconda environment.\n",
    "```\n",
    "source activate acme_diags_env\n",
    "```\n",
    "5\\. Create a parameters file called `myparams.py`.\n",
    "```\n",
    "touch myparams.py\n",
    "```\n",
    "6\\. Copy and paste the below code into `myparams.py` using your favorite text editor. Adjust any options as you like."
   ]
  },
  {
   "cell_type": "markdown",
   "metadata": {
    "collapsed": true
   },
   "source": [
    "```python\n",
    "reference_data_path = '/space1/test_data/obs_data_20140804/'\n",
    "test_data_path = '/space/golaz1/ACME_simulations/20160520.A_WCYCL1850.ne30_oEC.edison.alpha6_01/pp/clim_rgr/0070-0099/'\n",
    "\n",
    "test_name = '20160520.A_WCYCL1850.ne30'\n",
    "\n",
    "sets = [5]  # Can even be sets = [3, 4, 5, 7]\n",
    "\n",
    "# optional settings below\n",
    "\n",
    "diff_title = 'Model - Obs'\n",
    "diff_colormap = 'bl_to_darkred'\n",
    "\n",
    "backend = 'cartopy'  # 'cartopy' is for the matplotlib plots. 'vcs' can also be used.\n",
    "\n",
    "results_dir = 'set5_demo'  # name of folder where all results will be stored\n",
    "```"
   ]
  },
  {
   "cell_type": "markdown",
   "metadata": {},
   "source": [
    "7\\. By default, all of the AMWG diagnostics are ran, and that takes forever (a little over 1 hour). We'll create our own diagnostics to run. Run the command\n",
    "```\n",
    "touch mydiags.json\n",
    "```\n",
    "and paste the code below in `mydiags.json`. View [this](./available-parameters.ipynb) document for all available parameters."
   ]
  },
  {
   "cell_type": "markdown",
   "metadata": {},
   "source": [
    "```json\n",
    "{\n",
    "\t\"diags\": [\n",
    "\t\t{\n",
    "            \"sets\": [5],\n",
    "            \"case_id\": \"set5_GPCP\",\n",
    "            \"variables\": [\"PRECT\"],\n",
    "            \"ref_name\": \"GPCP\",\n",
    "            \"reference_name\": \"GPCP (yrs1979-2009)\",\n",
    "            \"seasons\": [\"ANN\",  \"JJA\"],\n",
    "            \"regions\": [\"global\",\"ocean_TROPICS\",\"TRMM_region\"],\n",
    "            \"contour_levels\": [0, 0.2, 0.5, 1, 2, 3, 4, 5, 6, 7, 8, 9, 10, 12, 14, 17],\n",
    "            \"diff_levels\": [-6, -5, -4, -3, -2, -1, -0.5, 0, 0.5, 1, 2, 3, 4, 5, 6]\n",
    "\t\t}, \n",
    "        {\n",
    "\t\t\t\"case_id\": \"set5_XIEARKIN\",\n",
    "\t\t\t\"variables\": [\"PRECT\"],\n",
    "\t\t\t\"ref_name\": \"XIEARKIN\",\n",
    "\t\t\t\"reference_name\": \"CMAP 1979-1998\",\n",
    "\t\t\t\"seasons\": [\"DJF\", \"MAM\"],\n",
    "\t\t\t\"contour_levels\": [0, 0.2, 0.5, 1, 2, 3, 4, 5, 6, 7, 8, 9, 10, 12, 14, 17],\n",
    "\t\t\t\"diff_levels\": [-6, -5, -4, -3, -2, -1, -0.5, 0, 0.5, 1, 2, 3, 4, 5, 6]\n",
    "\t\t}\n",
    "\t]\n",
    "}\n",
    "```"
   ]
  },
  {
   "cell_type": "markdown",
   "metadata": {},
   "source": [
    "8a\\. Run the diags.\n",
    "```\n",
    "acme_diags_driver.py -p myparams.py -d mydiags.json\n",
    "```\n",
    "8b\\. You can even run all of the AMWG diagnostics if you have time to kill.\n",
    "```\n",
    "acme_diags_driver.py -p myparams.py\n",
    "```\n",
    "9\\. Open the following webpage to view the results.\n",
    "```\n",
    "firefox set5_demo/index.html\n",
    "```\n"
   ]
  }
 ],
 "metadata": {
  "kernelspec": {
   "display_name": "Python 2",
   "language": "python",
   "name": "python2"
  },
  "language_info": {
   "codemirror_mode": {
    "name": "ipython",
    "version": 2
   },
   "file_extension": ".py",
   "mimetype": "text/x-python",
   "name": "python",
   "nbconvert_exporter": "python",
   "pygments_lexer": "ipython2",
   "version": "2.7.13"
  }
 },
 "nbformat": 4,
 "nbformat_minor": 2
}
