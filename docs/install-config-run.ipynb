{
 "cells": [
  {
   "cell_type": "markdown",
   "metadata": {},
   "source": [
    "## Installation, Configuration, and Running<a name=\"users-guide\"></a>"
   ]
  },
  {
   "cell_type": "markdown",
   "metadata": {},
   "source": [
    "### Installation\n"
   ]
  },
  {
   "cell_type": "markdown",
   "metadata": {},
   "source": [
    "#### Determining What Version to Get\n",
    "\n",
    "There are two possible versions of ACME diags: `acme_diags` and `acme_diags-nox`. The only difference between these versions is the version of the graphing library used. **If you are on a headless machine (one without a monitor, such as a server), use `acme_diags-nox` wherever you see `acme_diags`.**\n",
    "\n",
    "* **Latest stable release:**\n",
    "  * If you have Anaconda and want to **create a new environment**:\n",
    "    * **regular**: `conda create -n acme_diags_env -c acme -c conda-forge -c uvcdat/label/nightly -c uvcdat acme_diags`\n",
    "    * **nox**: `conda create -n acme_diags_env -c acme -c conda-forge -c uvcdat/label/nightly -c uvcdat acme_diags-nox`\n",
    "  * If you already have an environment:\n",
    "    * **regular**: `conda install -c acme -c conda-forge -c uvcdat/label/nightly -c uvcdat acme_diags`\n",
    "    * **nox**: `conda install -c acme -c conda-forge -c uvcdat/label/nightly -c uvcdat acme_diags-nox`\n",
    "* **Nightlies: the latest code from master branch:**\n",
    "    Go to the Anaconda [page for acme_diags](https://anaconda.org/acme/acme_diags/files?channel=nightly) or the [page for acme_diags-nox](https://anaconda.org/acme/acme_diags-nox/files?channel=nightly) and choose a date, which is the version. For example, we'll choose April 12, 2017.\n",
    "  * If you have Anaconda and want to **create a new environment**:\n",
    "    * **regular**: `conda create -n acme_diags_env -c acme/label/nightly -c conda-forge -c uvcdat/label/nightly -c uvcdat acme_diags=2017.04.12`\n",
    "    * **nox**: `conda create -n acme_diags_env -c acme/label/nightly -c conda-forge -c uvcdat/label/nightly -c uvcdat acme_diags-nox=2017.04.12`\n",
    "  * If you already have an environment:\n",
    "    * **regular**: `conda install -c acme/label/nightly -c conda-forge -c uvcdat/label/nightly -c uvcdat acme_diags=2017.04.12`\n",
    "    * **nox**: `conda install -c acme/label/nightly -c conda-forge -c uvcdat/label/nightly -c uvcdat acme_diags-nox=2017.04.12`\n",
    "  * If you don't wanna use Anaconda for whatever reason:\n",
    "```\n",
    "git clone https://github.com/zshaheen/acme_diags\n",
    "cd acme_diags\n",
    "python setup.py install\n",
    "```"
   ]
  },
  {
   "cell_type": "markdown",
   "metadata": {},
   "source": [
    "### Configuration\n",
    "You must first do some configuration before you run the diagnostics.\n",
    "\n",
    "1. Create a Python script, ex: `myparams.py`. These scripts are simply just keys and values.\n",
    "2. At minimum, you must define values for the following:\n",
    " * `reference_data_path`: path to the reference (observational) data\n",
    " * `test_data_path`: path to the test (model output) data\n",
    " * `test_name`: name of the test (model output) file\n",
    "3. There are many other parameters that allow the user to customize regridding method, plotting backend, and much more. **A full list of parameters can be found [here](available-parameters.ipynb).**\n",
    "\n",
    "An example `myparams.py` script is shown below. "
   ]
  },
  {
   "cell_type": "code",
   "execution_count": null,
   "metadata": {},
   "outputs": [],
   "source": [
    "reference_data_path = '/Users/zhang40/Documents/AIMS/amwg/amwg20140804/obs_data_20140804/'\n",
    "test_data_path = '/Users/zhang40/Documents/ACME_simulations/'\n",
    "\n",
    "test_name = '20160520.A_WCYCL1850.ne30'\n",
    "\n",
    "regrid_tool = 'esmf'\n",
    "regrid_method = 'linear'\n",
    "\n",
    "backend = 'vcs'\n",
    "\n",
    "diff_title = 'test - reference'\n",
    "diff_colormap = 'bl_to_darkred'\n",
    "\n",
    "canvas_size_w = 1212\n",
    "canvas_size_h = 1628             "
   ]
  },
  {
   "cell_type": "markdown",
   "metadata": {},
   "source": [
    "To add your own diagnostics, create a json file like the one below. **All of the keys in the json file are possible parameters as well. A full list is [here](available-parameters.ipynb)**. We'll call this `mydiags.json`.\n",
    "\n",
    "If you're going to use the one below as a test run, remove all of the comments which are lines that begin with `#`."
   ]
  },
  {
   "cell_type": "code",
   "execution_count": null,
   "metadata": {
    "collapsed": true
   },
   "outputs": [],
   "source": [
    "{\n",
    "    # For now, this key (\"set5\") can be anything\n",
    "    \"set5\": [\n",
    "        {\n",
    "        # What sets to run this diagnostics on\n",
    "        \"set\": [5],\n",
    "        # Diagnostics results are saved in a folder named after the case_id\n",
    "        \"case_id\": \"set5_MERRA\",\n",
    "        # variables, ref_name, and season are keywords for obs file searching \n",
    "        \"variables\": \"T\",  \n",
    "        \"ref_name\": \"MERRA\",\n",
    "        \"season\": [\"ANN\", \"JJA\"],\n",
    "        # Name of the observation that will appear on the output plot\n",
    "        \"reference_name\": \"MERRA Analysis 1979-2013 NASA\",\n",
    "        # User-specified pressure levels\n",
    "        \"levels\": [200.0, 850.0],\n",
    "        # User-defined regions, the default region is \"global\" if region is empty\n",
    "        # Find the default_regions.py in this repo for a list of all possible regions\n",
    "        \"region\": [\"land\", \"ocean_TROPICS\"] \n",
    "        }\n",
    "    ]\n",
    "}"
   ]
  },
  {
   "cell_type": "markdown",
   "metadata": {},
   "source": [
    "If you have multiple diagnostics you want to run, create a json like the one below."
   ]
  },
  {
   "cell_type": "code",
   "execution_count": null,
   "metadata": {
    "collapsed": true
   },
   "outputs": [],
   "source": [
    "{\n",
    "    \"set5\": [\n",
    "        {\n",
    "            # format is the same as the example below\n",
    "        },\n",
    "        {\n",
    "            # another one\n",
    "        },\n",
    "        {\n",
    "            # and another one\n",
    "        }\n",
    "    ]\n",
    "}"
   ]
  },
  {
   "cell_type": "markdown",
   "metadata": {},
   "source": [
    "### Running"
   ]
  },
  {
   "cell_type": "markdown",
   "metadata": {},
   "source": [
    "If you **don't** have your own diagnostics, simply just run: \n",
    "\n",
    "`set5_driver.py -p myparams.py`"
   ]
  },
  {
   "cell_type": "markdown",
   "metadata": {},
   "source": [
    "If you do have your own own diagnostics, run: \n",
    "\n",
    "`set5_driver.py -p myparams.py -d mydiags.json`"
   ]
  },
  {
   "cell_type": "markdown",
   "metadata": {},
   "source": [
    "Remember to select yes to view the results in a webpage."
   ]
  }
 ],
 "metadata": {
  "anaconda-cloud": {},
  "kernelspec": {
   "display_name": "Python 2",
   "language": "python",
   "name": "python2"
  },
  "language_info": {
   "codemirror_mode": {
    "name": "ipython",
    "version": 2
   },
   "file_extension": ".py",
   "mimetype": "text/x-python",
   "name": "python",
   "nbconvert_exporter": "python",
   "pygments_lexer": "ipython2",
   "version": "2.7.13"
  }
 },
 "nbformat": 4,
 "nbformat_minor": 2
}
