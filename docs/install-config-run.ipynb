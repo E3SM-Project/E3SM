{
 "cells": [
  {
   "cell_type": "markdown",
   "metadata": {},
   "source": [
    "## Installation, Configuration, and Running<a name=\"users-guide\"></a>"
   ]
  },
  {
   "cell_type": "markdown",
   "metadata": {},
   "source": [
    "### Installation\n"
   ]
  },
  {
   "cell_type": "markdown",
   "metadata": {},
   "source": [
    "#### Determining What Version to Get\n",
    "\n",
    "* **Latest stable release:**\n",
    "  * If you have Anaconda and want to **create a new environment**:\n",
    "    * `conda create -n acme_diags_env -c acme -c conda-forge -c uvcdat acme_diags`\n",
    "  * If you already have an environment:\n",
    "    * `conda install -c acme -c conda-forge -c uvcdat acme_diags`\n",
    "* **Nightlies: the latest code from master branch:**\n",
    "    Go to the Anaconda [page for acme_diags](https://anaconda.org/acme/acme_diags/files?channel=nightly) and choose a date, which is the version. For example, we'll choose June 23, 2017.\n",
    "  * If you have Anaconda and want to **create a new environment**:\n",
    "    * `conda create -n acme_diags_env -c acme/label/nightly -c conda-forge -c uvcdat acme_diags=2017.06.23`\n",
    "  * If you already have an environment:\n",
    "    * `conda install -c acme/label/nightly -c conda-forge -c uvcdat acme_diags=2017.06.23`\n",
    "  * If you don't wanna use Anaconda for whatever reason:\n",
    "```\n",
    "git clone https://github.com/ACME-Climate/acme_diags\n",
    "cd acme_diags\n",
    "python setup.py install\n",
    "```"
   ]
  },
  {
   "cell_type": "markdown",
   "metadata": {},
   "source": [
    "### Configuration\n",
    "You must first do some configuration before you run the diagnostics.\n",
    "\n",
    "1. Create a Python script, ex: `myparams.py`. These scripts are simply just keys and values.\n",
    "2. **At minimum, you must define values for the following:**\n",
    " * **`reference_data_path`: path to the reference (observational) data**\n",
    " * **`test_data_path`: path to the test (model output) data**\n",
    " * **`test_name`: name of the test (model output) file**\n",
    "3. There are many other parameters that allow the user to customize regridding method, plotting backend, and much more. **A full list of parameters can be found [here](available-parameters.ipynb).**\n",
    "\n",
    "An example `myparams.py` script is shown below. "
   ]
  },
  {
   "cell_type": "code",
   "execution_count": null,
   "metadata": {
    "collapsed": true
   },
   "outputs": [],
   "source": [
    "reference_data_path = '/Users/zhang40/Documents/AIMS/amwg/amwg20140804/obs_data_20140804/'\n",
    "test_data_path = '/Users/zhang40/Documents/ACME_simulations/'\n",
    "\n",
    "test_name = '20160520.A_WCYCL1850.ne30'\n",
    "\n",
    "# a few optional parameters\n",
    "backend = 'vcs'  # use 'mpl' for matplotlib\n",
    "\n",
    "results_dir = 'myresults'  # name of folder where all results will be stored"
   ]
  },
  {
   "cell_type": "markdown",
   "metadata": {},
   "source": [
    "To add your own diagnostics, create a cfg file like the one below. **All of the keys in the cfg file are possible parameters as well. A full list is [here](available-parameters.ipynb)**. We'll call this `mydiags.cfg`."
   ]
  },
  {
   "cell_type": "code",
   "execution_count": null,
   "metadata": {
    "collapsed": true
   },
   "outputs": [],
   "source": [
    "```\n",
    "[Diags]\n",
    "# What sets to run this diagnostics on\n",
    "sets = ['lat_lon']\n",
    "\n",
    "# Diagnostics results are saved in a folder named after the case_id\n",
    "case_id = \"lat_lon_MERRA\"\n",
    "\n",
    "# variables, ref_name, and season are keywords for obs file searching \n",
    "variables = [\"T\"]  \n",
    "ref_name = \"MERRA\"\n",
    "seasons = [\"ANN\", \"JJA\"]\n",
    "\n",
    "# Name of the observation that will appear on the output plot\n",
    "reference_name = \"MERRA Analysis 1979-2013 NASA\"\n",
    "\n",
    "# User-specified pressure levels\n",
    "plevs = [200.0, 850.0]\n",
    "\n",
    "# User-defined regions, the default region is \"global\" if region is empty\n",
    "# Find default_regions.py in this repo for a list of all possible regions\n",
    "regions = [\"land\", \"ocean_TROPICS\"] \n",
    "```"
   ]
  },
  {
   "cell_type": "markdown",
   "metadata": {},
   "source": [
    "If you have multiple diagnostics you want to run, create a cfg file like the one below."
   ]
  },
  {
   "cell_type": "markdown",
   "metadata": {
    "collapsed": true
   },
   "source": [
    "```\n",
    "[Diags]\n",
    "# put all of the parameters for a diags run here\n",
    "\n",
    "[Diags 2]\n",
    "# another diags run\n",
    "# make sure that the title (\"Diags 2\") is unique.\n",
    "```"
   ]
  },
  {
   "cell_type": "markdown",
   "metadata": {},
   "source": [
    "### Running"
   ]
  },
  {
   "cell_type": "markdown",
   "metadata": {},
   "source": [
    "If you **don't** have your own diagnostics, simply just run: \n",
    "\n",
    "`acme_diags_driver.py -p myparams.py`"
   ]
  },
  {
   "cell_type": "markdown",
   "metadata": {},
   "source": [
    "If you do have your own own diagnostics, run: \n",
    "\n",
    "`acme_diags_driver.py -p myparams.py -d mydiags.cfg`"
   ]
  },
  {
   "cell_type": "markdown",
   "metadata": {},
   "source": [
    "View the results by opening `index.html` in the location specified."
   ]
  }
 ],
 "metadata": {
  "anaconda-cloud": {},
  "kernelspec": {
   "display_name": "Python 2",
   "language": "python",
   "name": "python2"
  },
  "language_info": {
   "codemirror_mode": {
    "name": "ipython",
    "version": 2
   },
   "file_extension": ".py",
   "mimetype": "text/x-python",
   "name": "python",
   "nbconvert_exporter": "python",
   "pygments_lexer": "ipython2",
   "version": "2.7.13"
  }
 },
 "nbformat": 4,
 "nbformat_minor": 2
}
