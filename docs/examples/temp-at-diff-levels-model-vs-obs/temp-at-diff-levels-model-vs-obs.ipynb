{
 "cells": [
  {
   "cell_type": "markdown",
   "metadata": {},
   "source": [
    "# Comparing temperature at different levels in the model and obs"
   ]
  },
  {
   "cell_type": "markdown",
   "metadata": {},
   "source": [
    "This guide covers how to **compare the temperature at 200mb and 800mb using ERA-Interim observational data**."
   ]
  },
  {
   "cell_type": "markdown",
   "metadata": {},
   "source": [
    "First, make sure you are in the correct Anaconda environment that has `acme_diags` installed.\n",
    "\n",
    "In the directory of this Jupyter notebook, we have a file `myparams.py`. The parameters file contains information related to the location of the model/obs, what sets to use, and more. Here is also where the derived variables are added.\n"
   ]
  },
  {
   "cell_type": "code",
   "execution_count": 1,
   "metadata": {
    "collapsed": true
   },
   "outputs": [],
   "source": [
    "# %load myparams.py\n",
    "reference_data_path = '/space1/test_data/reanalysis_data/ERA-Interim/ta/climos/'\n",
    "test_data_path = '/space/golaz1/ACME_simulations/20160520.A_WCYCL1850.ne30_oEC.edison.alpha6_01/pp/clim_rgr/0070-0099/'\n",
    "\n",
    "test_name = '20160520.A_WCYCL1850.ne30_oEC.edison.alpha6_01'\n",
    "\n",
    "ref_name = 'ERA-Interim_ta'\n",
    "\n",
    "backend = 'cartopy'\n",
    "diff_colormap = 'bl_to_darkred'\n",
    "results_dir = 'Jerry_ra_ta'\n",
    "\n",
    "sets = [5]\n",
    "\n",
    "def rename(new_name):\n",
    "    '''Given the new name, just return it.'''\n",
    "    return new_name\n",
    "\n",
    "derived_variables = {\n",
    "    'T': {\n",
    "        ('ta'): rename\n",
    "    }\n",
    "}\n",
    "\n"
   ]
  },
  {
   "cell_type": "markdown",
   "metadata": {
    "collapsed": true
   },
   "source": [
    "The `mydiags.json` in this directory provides information about the diagnoatics you are running. You can see that we are running with the temperature (T) at pressure levels of 200mb and 800mb. We're doing this only annually. "
   ]
  },
  {
   "cell_type": "code",
   "execution_count": 2,
   "metadata": {},
   "outputs": [
    {
     "data": {
      "text/plain": [
       "{'mydiags': [{'case_id': 'set5_ERA-Interim',\n",
       "   'plevs': [200.0, 850.0],\n",
       "   'reference_name': 'ERA-Interim_ta',\n",
       "   'seasons': ['ANN'],\n",
       "   'variables': ['T']}]}"
      ]
     },
     "execution_count": 2,
     "metadata": {},
     "output_type": "execute_result"
    }
   ],
   "source": [
    "# %load mydiags.json\n",
    "{\n",
    "    \"mydiags\": [\n",
    "    {\n",
    "\t\t\"case_id\": \"set5_ERA-Interim\",\n",
    "\t\t\"variables\": [\"T\"],\n",
    "\t\t\"reference_name\": \"ERA-Interim_ta\",\n",
    "\t\t\"seasons\": [\"ANN\"],\n",
    "\t\t\"plevs\": [200.0, 850.0]\n",
    "\t}\n",
    "    ]\n",
    "}\n",
    "\n"
   ]
  },
  {
   "cell_type": "markdown",
   "metadata": {},
   "source": [
    "## Actually running the stuff"
   ]
  },
  {
   "cell_type": "markdown",
   "metadata": {},
   "source": [
    "The command below will actually run `acme_diags` with the above parameters when the cells are ran. \n",
    "\n",
    "**To get this to work properly, run this Jupyter notebook on aims4.llnl.gov.**\n",
    "On aims4 run the following and find this Jupyter notebook:\n",
    "\n",
    "```\n",
    "git clone git://github.com/zshaheen/acme-diags\n",
    "jupyter notebook\n",
    "```"
   ]
  },
  {
   "cell_type": "code",
   "execution_count": 3,
   "metadata": {},
   "outputs": [
    {
     "name": "stdout",
     "output_type": "stream",
     "text": [
      "Start to run ACME diags\n"
     ]
    },
    {
     "name": "stderr",
     "output_type": "stream",
     "text": [
      "Traceback (most recent call last):\n",
      "  File \"/Users/shaheen2/miniconda2/envs/acme_diags_nox_2.10/bin/acme_diags_driver.py\", line 4, in <module>\n",
      "    __import__('pkg_resources').run_script('acme-diags==0.1', 'acme_diags_driver.py')\n",
      "  File \"/Users/shaheen2/miniconda2/envs/acme_diags_nox_2.10/lib/python2.7/site-packages/pkg_resources/__init__.py\", line 739, in run_script\n",
      "    self.require(requires)[0].run_script(script_name, ns)\n",
      "  File \"/Users/shaheen2/miniconda2/envs/acme_diags_nox_2.10/lib/python2.7/site-packages/pkg_resources/__init__.py\", line 1494, in run_script\n",
      "    exec(code, namespace, namespace)\n",
      "  File \"/Users/shaheen2/miniconda2/envs/acme_diags_nox_2.10/lib/python2.7/site-packages/acme_diags-0.1-py2.7.egg-info/scripts/acme_diags_driver.py\", line 75, in <module>\n",
      "    run_diag(parameter)\n",
      "  File \"/Users/shaheen2/miniconda2/envs/acme_diags_nox_2.10/lib/python2.7/site-packages/acme_diags/driver/set5_driver.py\", line 47, in run_diag\n",
      "    filename1 = utils.get_test_filename(parameter, season)\n",
      "  File \"/Users/shaheen2/miniconda2/envs/acme_diags_nox_2.10/lib/python2.7/site-packages/acme_diags/driver/utils.py\", line 29, in get_test_filename\n",
      "    fnm = _findfile(parameters.test_data_path, parameters.test_name, season)\n",
      "  File \"/Users/shaheen2/miniconda2/envs/acme_diags_nox_2.10/lib/python2.7/site-packages/acme_diags/driver/utils.py\", line 11, in _findfile\n",
      "    dir_files = os.listdir(path_name)\n",
      "OSError: [Errno 2] No such file or directory: '/space/golaz1/ACME_simulations/20160520.A_WCYCL1850.ne30_oEC.edison.alpha6_01/pp/clim_rgr/0070-0099/'\n"
     ]
    }
   ],
   "source": [
    "%%bash\n",
    "acme_diags_driver.py -p myparams.py -d mydiags.json"
   ]
  }
 ],
 "metadata": {
  "kernelspec": {
   "display_name": "Python 2",
   "language": "python",
   "name": "python2"
  },
  "language_info": {
   "codemirror_mode": {
    "name": "ipython",
    "version": 2
   },
   "file_extension": ".py",
   "mimetype": "text/x-python",
   "name": "python",
   "nbconvert_exporter": "python",
   "pygments_lexer": "ipython2",
   "version": "2.7.13"
  }
 },
 "nbformat": 4,
 "nbformat_minor": 2
}
