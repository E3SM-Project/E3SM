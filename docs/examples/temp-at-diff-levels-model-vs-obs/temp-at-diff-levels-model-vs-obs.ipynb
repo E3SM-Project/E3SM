{
 "cells": [
  {
   "cell_type": "markdown",
   "metadata": {},
   "source": [
    "# Comparing temperature at multiple levels, with different variable names, in the model and obs"
   ]
  },
  {
   "cell_type": "markdown",
   "metadata": {},
   "source": [
    "This guide covers how to **compare the temperature at 200mb and 800mb using ERA-Interim observational data**. In the model, the variable temperature is `T`, but in the observation, the variable for temperature is `ta`.\n",
    "\n",
    "---"
   ]
  },
  {
   "cell_type": "markdown",
   "metadata": {},
   "source": [
    "First, make sure you are in the correct Anaconda environment that has `acme_diags` installed.\n",
    "\n",
    "In the directory of this Jupyter notebook, we have a file `myparams.py`. The parameters file contains information related to the location of the model/obs, what sets to use, and more. Here is also where the derived variables are added.\n",
    "\n",
    "To remedy the issue of the variable for temperature being different in the model (`T`) and obs (`ta`), we'll create a **derived variable**. This is done by creating a dictionary in `myparams.py` named `derived_variables`. \n",
    "\n",
    "`derived_variables` is just a dictionary of variable names to other possible variable names. Below in `myparams.py`, we see that `T` is mapped to `ta`. So when the variable `T` is requested from the data, it will first try to get `T`. If `T` is not there, then it will try to get `ta` from the data. If this is successful, then the function that `ta` is mapped to (`rename()`) is called, with `ta` as the argument. `rename('ta')` just returns `ta`."
   ]
  },
  {
   "cell_type": "code",
   "execution_count": 1,
   "metadata": {
    "collapsed": true
   },
   "outputs": [],
   "source": [
    "# %load myparams.py\n",
    "reference_data_path = '/space1/test_data/reanalysis_data/ERA-Interim/ta/climos/'\n",
    "ref_name = 'ERA-Interim_ta'\n",
    "\n",
    "test_data_path = '/space/golaz1/ACME_simulations/20160520.A_WCYCL1850.ne30_oEC.edison.alpha6_01/pp/clim_rgr/0070-0099/'\n",
    "test_name = '20160520.A_WCYCL1850.ne30_oEC.edison.alpha6_01'\n",
    "\n",
    "backend = 'cartopy'\n",
    "diff_colormap = 'bl_to_darkred'\n",
    "results_dir = 'Jerry_ra_ta'\n",
    "\n",
    "sets = [5]\n",
    "\n",
    "def rename(new_name):\n",
    "    '''Given the new name, just return it.'''\n",
    "    return new_name\n",
    "\n",
    "derived_variables = {\n",
    "    'T': {\n",
    "        ('ta'): rename\n",
    "    }\n",
    "}\n"
   ]
  },
  {
   "cell_type": "markdown",
   "metadata": {
    "collapsed": true
   },
   "source": [
    "The `mydiags.json` in this directory provides information about the diagnostics you are running. You can see that we are running with the temperature (`T`) at pressure levels of 200mb and 800mb. We're doing this only annually. \n",
    "\n",
    "Using the `derived_variable` dictionary defined in `myparams.py`, we are able to set the variable as `T`, but account for data that has the variable as `ta`."
   ]
  },
  {
   "cell_type": "code",
   "execution_count": 2,
   "metadata": {},
   "outputs": [
    {
     "data": {
      "text/plain": [
       "{'mydiags': [{'case_id': 'set5_ERA-Interim',\n",
       "   'plevs': [200.0, 850.0],\n",
       "   'reference_name': 'ERA-Interim_ta',\n",
       "   'seasons': ['ANN'],\n",
       "   'variables': ['T']}]}"
      ]
     },
     "execution_count": 2,
     "metadata": {},
     "output_type": "execute_result"
    }
   ],
   "source": [
    "# %load mydiags.json\n",
    "{\n",
    "    \"mydiags\": [\n",
    "    {\n",
    "\t\t\"case_id\": \"set5_ERA-Interim\",\n",
    "\t\t\"variables\": [\"T\"],\n",
    "\t\t\"reference_name\": \"ERA-Interim_ta\",\n",
    "\t\t\"seasons\": [\"ANN\"],\n",
    "\t\t\"plevs\": [200.0, 850.0]\n",
    "\t}\n",
    "    ]\n",
    "}\n",
    "\n"
   ]
  },
  {
   "cell_type": "markdown",
   "metadata": {},
   "source": [
    "## Actually running this Jupyter notebook"
   ]
  },
  {
   "cell_type": "markdown",
   "metadata": {},
   "source": [
    "The command below will actually run `acme_diags` with the above parameters when the cells are ran. \n",
    "\n",
    "**To get this to work properly, run this Jupyter notebook on aims4.llnl.gov.**\n",
    "On aims4 run the following and find this Jupyter notebook:\n",
    "\n",
    "```\n",
    "git clone git://github.com/ACME-Climate/acme_diags\n",
    "cd acme_diags/docs/examples\n",
    "jupyter notebook\n",
    "```"
   ]
  },
  {
   "cell_type": "code",
   "execution_count": 3,
   "metadata": {},
   "outputs": [
    {
     "name": "stdout",
     "output_type": "stream",
     "text": [
      "Start to run ACME diags\n",
      "test file: /space/golaz1/ACME_simulations/20160520.A_WCYCL1850.ne30_oEC.edison.alpha6_01/pp/clim_rgr/0070-0099/20160520.A_WCYCL1850.ne30_oEC.edison.alpha6_01_ANN_climo.nc\n",
      "reference file: /space1/test_data/reanalysis_data/ERA-Interim/ta/climos/ERA-Interim_ta_ANN_198001_201512_climo.nc\n",
      "*********** [u'T']\n",
      "T\n",
      "selected pressure level [200.0, 850.0]\n",
      "selected region global\n",
      "no domain selector\n",
      "Plot saved in: Jerry_ra_ta/set5/set5_ERA-Interim/ERA-Interim_ta-T-200-ANN-global.png\n",
      "selected region global\n",
      "no domain selector\n",
      "Plot saved in: Jerry_ra_ta/set5/set5_ERA-Interim/ERA-Interim_ta-T-850-ANN-global.png\n",
      "Viewer HTML generated at /export_2/shaheen2/github/acme_diags/docs/examples/temp-at-diff-levels-model-vs-obs/Jerry_ra_ta/index.html.\n"
     ]
    },
    {
     "name": "stderr",
     "output_type": "stream",
     "text": [
      "Self-intersection at or near point -180 -33.374285737345041\n",
      "Self-intersection at or near point -180 53.434831896185543\n",
      "Self-intersection at or near point -180 59.068134444402041\n",
      "Self-intersection at or near point -180 -43.01554633867277\n",
      "Self-intersection at or near point -180 47.319531445752943\n",
      "Self-intersection at or near point -180 54.085105032683884\n",
      "Self-intersection at or near point -180 -74.056568750690687\n",
      "Self-intersection at or near point -180 39.159095549203762\n",
      "Self-intersection at or near point -180 -72.512376553720415\n",
      "Self-intersection at or near point -180 -56.712751677852353\n",
      "Self-intersection at or near point -180 -45.803644663607074\n",
      "Self-intersection at or near point -180 42.137209342500775\n",
      "Self-intersection at or near point -180 31.919967554413951\n"
     ]
    }
   ],
   "source": [
    "%%bash\n",
    "acme_diags_driver.py -p myparams.py -d mydiags.json"
   ]
  }
 ],
 "metadata": {
  "anaconda-cloud": {},
  "kernelspec": {
   "display_name": "Python 2",
   "language": "python",
   "name": "python2"
  },
  "language_info": {
   "codemirror_mode": {
    "name": "ipython",
    "version": 2
   },
   "file_extension": ".py",
   "mimetype": "text/x-python",
   "name": "python",
   "nbconvert_exporter": "python",
   "pygments_lexer": "ipython2",
   "version": "2.7.13"
  }
 },
 "nbformat": 4,
 "nbformat_minor": 2
}
