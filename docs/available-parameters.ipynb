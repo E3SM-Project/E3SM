{
 "cells": [
  {
   "cell_type": "markdown",
   "metadata": {},
   "source": [
    "# Defining Parameters and All Available Parameters"
   ]
  },
  {
   "cell_type": "markdown",
   "metadata": {},
   "source": [
    "## Ways to define parameters"
   ]
  },
  {
   "cell_type": "markdown",
   "metadata": {},
   "source": [
    "There are three ways to input parameters to the diagnostics:\n",
    "1. Command line: For example: `acme_diags_driver.py -p myparam.py --variables T PRECT` will set the variables to `['T', 'PRECT']`.\n",
    "2. Parameters file: In the command `acme_diags_driver.py -p myparam.py`, the parameters file is `myparam.py`.\n",
    "3. Diagnostics file: In the command `acme_diags_driver.py -d mydiags.cfg`, the diagnostics file is `mydiags.cfg`."
   ]
  },
  {
   "cell_type": "markdown",
   "metadata": {},
   "source": [
    "**Each of these ways have a level of priority, with the command line input having the highest priority and the diagnostics file having the lowest priority.** "
   ]
  },
  {
   "cell_type": "markdown",
   "metadata": {},
   "source": [
    "### Examples"
   ]
  },
  {
   "cell_type": "markdown",
   "metadata": {},
   "source": [
    "Say that we have the following files:"
   ]
  },
  {
   "cell_type": "markdown",
   "metadata": {},
   "source": [
    "`myparams.py:`\n",
    "```python\n",
    "sets = ['lat_lon']\n",
    "variables = ['T']\n",
    "seasons = ['DJF', 'MAM', 'JJA', 'SON']\n",
    "```"
   ]
  },
  {
   "cell_type": "markdown",
   "metadata": {},
   "source": [
    "`mydiags.cfg:`\n",
    "```\n",
    "[Diags]\n",
    "variables = [\"PRECT\"]\n",
    "regions = [\"global\"]\n",
    "seasons = [\"ANN\"]\n",
    "\n",
    "[Diags 2]\n",
    "variables = [\"SST\"]\n",
    "regions = [\"ocean\"]\n",
    "seasons = [\"JJA\"]\n",
    "```"
   ]
  },
  {
   "cell_type": "markdown",
   "metadata": {},
   "source": [
    "#### Running with just the parameters file"
   ]
  },
  {
   "cell_type": "markdown",
   "metadata": {
    "collapsed": true
   },
   "source": [
    "Running `acme_diags_driver.py -p myparams.py` will just run the lat-lon contour diagnostics once with the parameters being: \n",
    "```python\n",
    "variables = ['T']\n",
    "seasons = ['DJF', 'MAM', 'JJA', 'SON']\n",
    "```"
   ]
  },
  {
   "cell_type": "markdown",
   "metadata": {},
   "source": [
    "#### Running with the diagnostics file"
   ]
  },
  {
   "cell_type": "markdown",
   "metadata": {},
   "source": [
    "The `cfg` files support all of the non-programatic parameters covered below in the Available Parameters section. `cfg` files are also the way of defining multiple diagnostics runs, in `mydiags.cfg` defined above, we have two runs."
   ]
  },
  {
   "cell_type": "markdown",
   "metadata": {},
   "source": [
    "Running `acme_diags_driver.py -d mydiags.cfg` will have two runs with the following parameters\n",
    "\n",
    "Run 1:\n",
    "```python\n",
    "variables = ['PRECT']\n",
    "regions = ['global']\n",
    "seasons = ['ANN']\n",
    "```\n",
    "Run 2:\n",
    "```python\n",
    "variables = ['SST']\n",
    "regions = ['ocean']\n",
    "seasons = ['JJA']\n",
    "```"
   ]
  },
  {
   "cell_type": "markdown",
   "metadata": {},
   "source": [
    "Running `acme_diags_driver.py -p myparams.py -d mydiags.cfg` will also have two runs, but the parameters in `myparams.py` will take priority over the ones described in `mydiags.cfg`. So the runs will be:\n",
    "\n",
    "Run 1:\n",
    "```python\n",
    "variables = ['T']\n",
    "regions = ['global']\n",
    "seasons = ['DJF', 'MAM', 'JJA', 'SON']\n",
    "```\n",
    "Run 2:\n",
    "```python\n",
    "variables = ['T']\n",
    "regions = ['ocean']\n",
    "seasons = ['DJF', 'MAM', 'JJA', 'SON']\n",
    "```"
   ]
  },
  {
   "cell_type": "markdown",
   "metadata": {},
   "source": [
    "#### Running with command line arguments"
   ]
  },
  {
   "cell_type": "markdown",
   "metadata": {},
   "source": [
    "With all of the three aforementioned ways of setting the parameters (just `myparams.py`, just `mydiags.cfg`, or both `myparams.py` and `mydiags.cfg`), command line arguments can be added to all. \n",
    "\n",
    "So running `acme_diags_driver.py -p myparams.py -d mydiags.json --variables PREH2O` will have the variables in both runs be `PREH2O`:\n",
    "\n",
    "Run 1:\n",
    "```python\n",
    "variables = ['PREH2O']\n",
    "regions = ['global']\n",
    "seasons = ['DJF', 'MAM', 'JJA', 'SON']\n",
    "```\n",
    "Run 2:\n",
    "```python\n",
    "variables = ['PREH2O']\n",
    "regions = ['ocean']\n",
    "seasons = ['DJF', 'MAM', 'JJA', 'SON']\n",
    "```"
   ]
  },
  {
   "cell_type": "markdown",
   "metadata": {},
   "source": [
    "---\n",
    "## Available Parameters"
   ]
  },
  {
   "cell_type": "markdown",
   "metadata": {},
   "source": [
    "The driver needs a parameters file to run. In these files, there is support for many features related to diagnostics."
   ]
  },
  {
   "cell_type": "markdown",
   "metadata": {},
   "source": [
    "Given a command like `acme_diags_driver.py -p params.py`, the parameters in `params.py` will overwrite any predefined values for all of the runs."
   ]
  },
  {
   "cell_type": "markdown",
   "metadata": {},
   "source": [
    "### Parameters for diagnostics"
   ]
  },
  {
   "cell_type": "markdown",
   "metadata": {},
   "source": [
    "<span style=\"color:red\">Any parameter that is red is one that is required for a diagnostics run. The rest are optional and often have default values.</span>"
   ]
  },
  {
   "cell_type": "markdown",
   "metadata": {},
   "source": [
    "The parameters in the section are ones related to test/reference specifications. Below are the parameters related to file I/O."
   ]
  },
  {
   "cell_type": "markdown",
   "metadata": {
    "collapsed": true
   },
   "source": [
    "* **`results_dir`**: the name of the folder where all runs will be stored. If not defined, the folder where all of the results are created in is named `acme_diags_results-TIMESTAMP`.\n",
    "* <span style=\"color:red\"> **`case_id`**: the name of the folder where the results (nc files and plots) will be stored for a single run. ex: `results_dir/case_id`<span>\n",
    "* <span style=\"color:red\"> **`reference_data_path`**: path to the reference (obs) data.<span>\n",
    "* <span style=\"color:red\"> **`test_data_path`**: path to the test (model) data.<span>\n",
    "* **`reference_name`**: the name of the reference (obs) file. This doesn't need to be defined if your running the default AMWG sets. In the built-in parameters files for these, the `reference_name` is already defined. \n",
    "* <span style=\"color:red\">**`test_name`**: the name of the test (model output) file.<span>\n",
    "* **`save_netcdf`**: set to `True` if you want the reference, test, and difference data saved. It's `False` by default."
   ]
  },
  {
   "cell_type": "markdown",
   "metadata": {},
   "source": [
    "The parameters below are for running the diagnostics in parallel using multiprocessing or distributedly."
   ]
  },
  {
   "cell_type": "markdown",
   "metadata": {},
   "source": [
    "* **`num_workers`**: number of processes to use. If not defined, it will used the number of logical (not physical) processes on the machine. ex: `num_workers = 8`\n",
    "* **`multiprocessing`**: set to `True` to use multiprocessing. It's `False` by default. `multiprocessing` and `distributed` cannot both be `True.`\n",
    "* **`distributed`**: set to `True` to run the diagnostics distributedly. It's `False` by default. `multiprocessing` and `distributed` cannot both be `True.`"
   ]
  },
  {
   "cell_type": "markdown",
   "metadata": {},
   "source": [
    "The parameters below are related to the actual climate-related functionality of the diagnostics."
   ]
  },
  {
   "cell_type": "markdown",
   "metadata": {},
   "source": [
    "* <span style=\"color:red\">**`sets`**: A list of the sets to be ran. Ex. `sets=['zonal_mean_xy', 'zonal_mean_2d', 'lat_lon, 'polar', 'cosp_histogram']` or `sets=['3', '4', '5, '7', '13']`<span>\n",
    "* <span style=\"color:red\">**`variables`**: What variables to use for this run. Ex: `variables=[\"T\", \"PRECT\"]`.<span>\n",
    "* <span style=\"color:red\">**`seasons`**: A list of season to use. Possible values are: \"ANN\", \"DJF\", \"MAM\", \"JJA\", \"SON\". Ex: `seasons=[\"ANN\", \"DJF\", \"MAM\", \"JJA\", \"SON\"]`.<span>\n",
    "* **`regions`**: A list of regions. If none, it's `global` by default. See [this file](https://github.com/zshaheen/acme_diags/blob/master/acme_diags/derivations/default_regions.py) for a list of possible regions. Ex: `regions=[\"global\",\"TROPICS\"]`.\n",
    "* **`plevs`**: A list of pressure levels to use. Ex: `plevs=[850.0, 200.0]`.\n",
    "* **`regrid_tool`**: The regrid tool to use. **Possible values are: ____.** Is `'esmf'` by default when no value is given.\n",
    "* **`regrid_method`**: What regird method of the regrid tool to use. **Possible values are `'linear'`, `'conservative'`.** Is `'linear'` by default when no value is given."
   ]
  },
  {
   "cell_type": "markdown",
   "metadata": {},
   "source": [
    "### Parameters for plotting"
   ]
  },
  {
   "cell_type": "markdown",
   "metadata": {},
   "source": [
    "The figure below is an sample output. We use this to described what each plotting parameter does."
   ]
  },
  {
   "cell_type": "markdown",
   "metadata": {},
   "source": [
    "![Figure1](parameter_example.png \"Example\")"
   ]
  },
  {
   "cell_type": "markdown",
   "metadata": {},
   "source": [
    "Below are general plotting-related parameters. "
   ]
  },
  {
   "cell_type": "markdown",
   "metadata": {},
   "source": [
    "* **`main_title`**: Main title of the image. It's \"PRECT ANN global\" in the example and is blank by default.\n",
    "* **`backend`**: Can either be `vcs` or `cartopy`/`mpl`/`matplotlib`. Is `vcs` by default when no value is given.\n",
    "* **`output_file`**: Name of the output file. Is `output` by default. Remember **not** to include an extension.\n",
    "* **`output_format`**: A list of formats that yout want the plot to be output to. Can be something like `['png', 'pdf', 'svg']. `Is `['png']` when nothing is present.\n",
    "* **`canvas_size_w`**: width of the image in pixels and only used by vcs. Is 1212 by default.\n",
    "* **`canvas_size_h`**: height of the image in pixels and only used by vcs. Is 1628 by default.\n",
    "* **`arrows`**: Is either `True` (default value) or `False` and will accordingly show or hide the arrows on the legend for all of the graphs.\n",
    "* **`logo`**: `True` (default value) to show the UV-CDAT logo on the vcs backend, `False` to not. Just keep it on please."
   ]
  },
  {
   "cell_type": "markdown",
   "metadata": {},
   "source": [
    "The parameters below are for each of the three plots (`test`, `reference`, and `diff`) in the image."
   ]
  },
  {
   "cell_type": "markdown",
   "metadata": {},
   "source": [
    "* **`test_title`**: the title for the test plot. It's \"Test Title\" in the image and is blank by default.\n",
    "* **`test_colormap`**: If not defined in the parameters, the default value is `'viridis'`.\n",
    "* **`contour_levels`**: the levels on the legend of the test and reference plot. It's [0, 0.2, 0.5, 1, 2, 3, 4, 5, 6, 7, 8, 9, 10, 12, 14, 17] in the image but automatically gets the range by default.\n",
    "* **`test_units`**: the units that are on the top-right of the test plot. It's \"mm/day\" in the image. If blank, it automatically gets the units from the test data. "
   ]
  },
  {
   "cell_type": "markdown",
   "metadata": {},
   "source": [
    "The `reference` and `diff` plots also have the same keywords which are semantically the same for their respective plots. Below are the values they hold for the image above."
   ]
  },
  {
   "cell_type": "markdown",
   "metadata": {},
   "source": [
    "* **`reference_title`**: \"Reference title\" in the image and is blank by default.\n",
    "* **`reference_colormap`**: This wasn't define in the parameter, so it is the default value, `'viridis'`. \n",
    "* **`contour_levels`**: You only need one `contour_levels` in you script. It's used in the reference plot. [0, 0.2, 0.5, 1, 2, 3, 4, 5, 6, 7, 8, 9, 10, 12, 14, 17] in the image.\n",
    "* **`reference_units`**: \"mm/day\" in the image. If blank, it automatically gets the units from the reference data. "
   ]
  },
  {
   "cell_type": "markdown",
   "metadata": {},
   "source": [
    "* **`diff_title`**: \"Test - Reference\" in the image. If blank, the default is \"Model - Observation\".\n",
    "* **`diff_colormap`**: it `'RdBu_r'` in the image above and `'RdBu_r'` by default. \n",
    "* **`diff_levels`**: [-6, -5, -4, -3, -2, -1, -0.5, 0, 0.5, 1, 2, 3, 4, 5, 6] in the image but automatically gets the range by default.\n",
    "* **`diff_units`**: \"mm/day\" in the image. If blank, it automatically gets the units from the test - reference data. "
   ]
  }
 ],
 "metadata": {
  "anaconda-cloud": {},
  "kernelspec": {
   "display_name": "Python 2",
   "language": "python",
   "name": "python2"
  },
  "language_info": {
   "codemirror_mode": {
    "name": "ipython",
    "version": 2
   },
   "file_extension": ".py",
   "mimetype": "text/x-python",
   "name": "python",
   "nbconvert_exporter": "python",
   "pygments_lexer": "ipython2",
   "version": "2.7.13"
  }
 },
 "nbformat": 4,
 "nbformat_minor": 2
}
