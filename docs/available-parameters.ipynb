{
 "cells": [
  {
   "cell_type": "markdown",
   "metadata": {
    "deletable": true,
    "editable": true
   },
   "source": [
    "# Available Parameters"
   ]
  },
  {
   "cell_type": "markdown",
   "metadata": {
    "deletable": true,
    "editable": true
   },
   "source": [
    "The driver needs a parameters file to run. In these files, there is support for many features related to diagnostics. Below are all of the ones for Set 5."
   ]
  },
  {
   "cell_type": "markdown",
   "metadata": {
    "deletable": true,
    "editable": true
   },
   "source": [
    "Given a command like `set5_driver.py -p params.py`, the parameters in `params.py` will overwrite any predefined values for all of the runs."
   ]
  },
  {
   "cell_type": "markdown",
   "metadata": {
    "deletable": true,
    "editable": true
   },
   "source": [
    "## Parameters for diagnostics"
   ]
  },
  {
   "cell_type": "markdown",
   "metadata": {
    "deletable": true,
    "editable": true
   },
   "source": [
    "The parameters in the section are ones related to **climate stuff.** Below are the parameters related to file I/O."
   ]
  },
  {
   "cell_type": "markdown",
   "metadata": {
    "collapsed": true,
    "deletable": true,
    "editable": true
   },
   "source": [
    "* `case_id`: the name of the folder where the results (nc files and plots) will be stored.\n",
    "* `reference_data_path`: \n",
    "* `test_data_path`: \n",
    "* `reference_data_set`: \n",
    "* `test_data_set`: "
   ]
  },
  {
   "cell_type": "markdown",
   "metadata": {
    "deletable": true,
    "editable": true
   },
   "source": [
    "The variables below are related to the actual climate-related functionality of the diagnostics."
   ]
  },
  {
   "cell_type": "markdown",
   "metadata": {
    "deletable": true,
    "editable": true
   },
   "source": [
    "* `variables`: \n",
    "* `season`: \n",
    "* `region`: \n",
    "* `regrid_tool`: Is 'esmf' by default when no value is given.\n",
    "* `regrid_method`: Is 'linear' by default when no value is given."
   ]
  },
  {
   "cell_type": "markdown",
   "metadata": {
    "deletable": true,
    "editable": true
   },
   "source": [
    "Below are "
   ]
  },
  {
   "cell_type": "markdown",
   "metadata": {
    "deletable": true,
    "editable": true
   },
   "source": [
    "## Parameters for plotting"
   ]
  },
  {
   "cell_type": "markdown",
   "metadata": {
    "deletable": true,
    "editable": true
   },
   "source": [
    "The figure below is an sample output. We use this to described what each plotting parameter does."
   ]
  },
  {
   "cell_type": "markdown",
   "metadata": {
    "deletable": true,
    "editable": true
   },
   "source": [
    "**Insert the image**"
   ]
  },
  {
   "cell_type": "markdown",
   "metadata": {},
   "source": [
    "Below are general plotting-related parameters. "
   ]
  },
  {
   "cell_type": "markdown",
   "metadata": {},
   "source": [
    "* `main_title`: Main title of the image. It's **this** in the example and is 'Main Title' by default.\n",
    "* `backend`: Can either be `vcs` or `cartopy`. Is `vcs` be default when no value is given.\n",
    "* `output_file`: Name of the output file. Is `output` by default. Remember **not** to include an extension.\n",
    "* `output_format`: A list of formats that yout want the plot to be output to. Can be something like `['png', 'pdf', 'svg']. `Is `['png']` when nothing is present.\n",
    "* `contour_levels`: **wtf is this?**\n",
    "* `canvas_size_w`: width of the image in pixels. Is 1212 by default.\n",
    "* `canvas_size_h`: height of the image in pixels. Is 1628 by default.\n",
    "* `arrows`: Is either True (default value) or False and will according show or hide the arrows on the legend for all of the graphs.\n",
    "* `logo`: True (default value) to show the UV-CDAT logo, False to not. Just keep it on please."
   ]
  },
  {
   "cell_type": "markdown",
   "metadata": {},
   "source": [
    "The parameters below are for each of the three plots (`test`, `reference`, and `diff`) in the image."
   ]
  },
  {
   "cell_type": "markdown",
   "metadata": {
    "deletable": true,
    "editable": true
   },
   "source": [
    "* `test_name`: the top-left name on the test plot. It's **this** in the image.\n",
    "* `test_title`: the title for the test plot. It's **this** in the image.\n",
    "* `test_colormap`: the colormap of the test plot, which it **somecolormap**. **A full list of colormaps can be seen here.**\n",
    "* `test_levels`: the levels on the legend of the test plot. It's **[...]** in the image.\n",
    "* `test_units`: the units that are on the top-right of the test plot. It's **K?** in the image."
   ]
  },
  {
   "cell_type": "markdown",
   "metadata": {
    "deletable": true,
    "editable": true
   },
   "source": [
    "The `reference` and `diff` plots also have the same keywords which are semantically the same for their respective plots. Below are the values they hold for the image above."
   ]
  },
  {
   "cell_type": "markdown",
   "metadata": {
    "deletable": true,
    "editable": true
   },
   "source": [
    "* `reference_name`: **this** in the image.\n",
    "* `reference_title`: **this** in the image.\n",
    "* `reference_colormap`: it **somecolormap**. \n",
    "* `reference_levels`: **[...]** in the image.\n",
    "* `reference_units`: **K?** in the image."
   ]
  },
  {
   "cell_type": "markdown",
   "metadata": {
    "deletable": true,
    "editable": true
   },
   "source": [
    "* `diff_name`: **this** in the image.\n",
    "* `diff_title`: **this** in the image. If blank, the default is 'Model - Observation'.\n",
    "* `diff_colormap`: it **somecolormap**. \n",
    "* `diff_levels`: **[...]** in the image.\n",
    "* `diff_units`: **K?** in the image."
   ]
  }
 ],
 "metadata": {
  "kernelspec": {
   "display_name": "Python 2",
   "language": "python",
   "name": "python2"
  },
  "language_info": {
   "codemirror_mode": {
    "name": "ipython",
    "version": 2
   },
   "file_extension": ".py",
   "mimetype": "text/x-python",
   "name": "python",
   "nbconvert_exporter": "python",
   "pygments_lexer": "ipython2",
   "version": "2.7.12"
  }
 },
 "nbformat": 4,
 "nbformat_minor": 2
}
