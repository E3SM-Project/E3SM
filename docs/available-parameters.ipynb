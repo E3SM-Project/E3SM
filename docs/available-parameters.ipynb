{
 "cells": [
  {
   "cell_type": "markdown",
   "metadata": {
    "deletable": true,
    "editable": true
   },
   "source": [
    "# Available Parameters"
   ]
  },
  {
   "cell_type": "markdown",
   "metadata": {
    "deletable": true,
    "editable": true
   },
   "source": [
    "The driver needs a parameters file to run. In these files, there is support for many features related to diagnostics. Below are all of the ones for Set 5."
   ]
  },
  {
   "cell_type": "markdown",
   "metadata": {
    "deletable": true,
    "editable": true
   },
   "source": [
    "Given a command like `set5_driver.py -p params.py`, the parameters in `params.py` will overwrite any predefined values for all of the runs."
   ]
  },
  {
   "cell_type": "markdown",
   "metadata": {
    "deletable": true,
    "editable": true
   },
   "source": [
    "## Parameters for diagnostics"
   ]
  },
  {
   "cell_type": "markdown",
   "metadata": {
    "deletable": true,
    "editable": true
   },
   "source": [
    "The parameters in the section are ones related to **climate stuff.** Below are the parameters related to file I/O."
   ]
  },
  {
   "cell_type": "markdown",
   "metadata": {
    "collapsed": true,
    "deletable": true,
    "editable": true
   },
   "source": [
    "* `case_id`: the name of the folder where the results (nc files and plots) will be stored.\n",
    "* `reference_data_path`: path to the reference (obs) data.\n",
    "* `test_data_path`: path to the test (model) data.\n",
    "* `reference_name`: the name of the reference (obs) file. This usually doesn't need to be defined, since you'll be running again either AMWG or your own diags. In the built-in parameter files for those, the reference_name is already defined. \n",
    "* `test_name`: the name of the test (model output) file."
   ]
  },
  {
   "cell_type": "markdown",
   "metadata": {
    "deletable": true,
    "editable": true
   },
   "source": [
    "The variables below are related to the actual climate-related functionality of the diagnostics."
   ]
  },
  {
   "cell_type": "markdown",
   "metadata": {
    "deletable": true,
    "editable": true
   },
   "source": [
    "* `variables`: What variables to use for this run. Note that currently, only single variable is supported: `variables=\"T\"`.\n",
    "* `season`: A list of season to use. Possible values are: \"ANN\", \"DJF\", \"MAM\", \"JJA\", \"SON\". Ex: `season=[\"ANN\", \"DJF\", \"MAM\", \"JJA\", \"SON\"]`.\n",
    "* `region`: A list of regions. See [this file](https://github.com/zshaheen/acme_diags/blob/master/acme_diags/derivations/default_regions.py) for a list of possible regions. Ex: `regions=[\"global\",\"TROPICS\"]`.\n",
    "* `levels`: A list of pressure levels to use. Ex: `levels=[850.0, 200.0]`.\n",
    "* `regrid_tool`: The regrid tool to use. **Possible values are: ____.** Is 'esmf' by default when no value is given.\n",
    "* `regrid_method`: What regird method of the regrid tool to use. **Possible values are ____.** Is 'linear' by default when no value is given."
   ]
  },
  {
   "cell_type": "markdown",
   "metadata": {
    "deletable": true,
    "editable": true
   },
   "source": [
    "## Parameters for plotting"
   ]
  },
  {
   "cell_type": "markdown",
   "metadata": {
    "deletable": true,
    "editable": true
   },
   "source": [
    "The figure below is an sample output. We use this to described what each plotting parameter does."
   ]
  },
  {
   "cell_type": "markdown",
   "metadata": {
    "deletable": true,
    "editable": true
   },
   "source": [
    "<img src=http://i.imgur.com/8UIUk3g.png alt=\"Figure1\" style=\"width: 500px;\"/>"
   ]
  },
  {
   "cell_type": "markdown",
   "metadata": {
    "deletable": true,
    "editable": true
   },
   "source": [
    "Below are general plotting-related parameters. "
   ]
  },
  {
   "cell_type": "markdown",
   "metadata": {
    "deletable": true,
    "editable": true
   },
   "source": [
    "* `main_title`: Main title of the image. It's \"PRECT ANN global\" in the example and is 'Main Title' by default.\n",
    "* `backend`: Can either be `vcs` or `cartopy`. Is `vcs` be default when no value is given.\n",
    "* `output_file`: Name of the output file. Is `output` by default. Remember **not** to include an extension.\n",
    "* `output_format`: A list of formats that yout want the plot to be output to. Can be something like `['png', 'pdf', 'svg']. `Is `['png']` when nothing is present.\n",
    "* `canvas_size_w`: width of the image in pixels. Is 1212 by default.\n",
    "* `canvas_size_h`: height of the image in pixels. Is 1628 by default.\n",
    "* `arrows`: Is either True (default value) or False and will according show or hide the arrows on the legend for all of the graphs.\n",
    "* `logo`: True (default value) to show the UV-CDAT logo on the vcs backend, False to not. Just keep it on please."
   ]
  },
  {
   "cell_type": "markdown",
   "metadata": {
    "deletable": true,
    "editable": true
   },
   "source": [
    "The parameters below are for each of the three plots (`test`, `reference`, and `diff`) in the image."
   ]
  },
  {
   "cell_type": "markdown",
   "metadata": {
    "deletable": true,
    "editable": true
   },
   "source": [
    "* `test_title`: the title for the test plot. It's \"Test Title\" in the image and is blank by default.\n",
    "* `test_colormap`:  Wansn't define in the parameter, so is the default value **somecolormap**. **A full list of colormaps can be seen here (add link soon): ['AMIP', 'NCAR', 'bl_to_darkred', 'bl_to_drkorang', 'blends', 'blue2darkorange', 'blue2darkred', 'blue2green', 'blue2grey', 'blue2orange', 'blue2orange2red', 'blue_to_grey', 'blue_to_grn', 'blue_to_orange', 'blue_to_orgred', 'brown2blue', 'brown_to_blue', 'categorical', 'classic', 'default', 'green2magenta', 'grn_to_magenta', 'inferno', 'lightblue2darkblue', 'ltbl_to_drkbl', 'magma', 'plasma', 'rainbow', 'rainbow_no_grn', 'rainbownogreen', 'sequential', 'viridis', 'white2blue', 'white2green', 'white2magenta', 'white2red', 'white2yellow', 'white_to_blue', 'white_to_green', 'white_to_magenta', 'white_to_red', 'white_to_yellow']**\n",
    "* `contour_levels`: the levels on the legend of the test and reference plot. It's [0, 0.2, 0.5, 1, 2, 3, 4, 5, 6, 7, 8, 9, 10, 12, 14, 17] in the image but automatically gets the range by default.\n",
    "* `test_units`: the units that are on the top-right of the test plot. It's \"mm/day\" in the image. If blank, it automatically gets the units from the test data. "
   ]
  },
  {
   "cell_type": "markdown",
   "metadata": {
    "deletable": true,
    "editable": true
   },
   "source": [
    "The `reference` and `diff` plots also have the same keywords which are semantically the same for their respective plots. Below are the values they hold for the image above."
   ]
  },
  {
   "cell_type": "markdown",
   "metadata": {
    "deletable": true,
    "editable": true
   },
   "source": [
    "* `reference_title`: \"Reference title\" in the image and is blank by default.\n",
    "* `reference_colormap`: Wansn't define in the parameter, so is the default value **somecolormap**. \n",
    "* `contour_levels`: You only need one `contour_levels` in you script. It's used in the reference plot. [0, 0.2, 0.5, 1, 2, 3, 4, 5, 6, 7, 8, 9, 10, 12, 14, 17] in the image.\n",
    "* `reference_units`: \"mm/day\" in the image. If blank, it automatically gets the units from the reference data. "
   ]
  },
  {
   "cell_type": "markdown",
   "metadata": {
    "deletable": true,
    "editable": true
   },
   "source": [
    "* `diff_title`: \"Test - Reference\" in the image. If blank, the default is \"Model - Observation\".\n",
    "* `diff_colormap`: it \"bl_to_darkred\" in the image above and **this** by default. \n",
    "* `diff_levels`: [-6, -5, -4, -3, -2, -1, -0.5, 0, 0.5, 1, 2, 3, 4, 5, 6] in the image but automatically gets the range by default.\n",
    "* `diff_units`: \"mm/day\" in the image. If blank, it automatically gets the units from the test - reference data. "
   ]
  }
 ],
 "metadata": {
  "anaconda-cloud": {},
  "kernelspec": {
   "display_name": "Python 2",
   "language": "python",
   "name": "python2"
  },
  "language_info": {
   "codemirror_mode": {
    "name": "ipython",
    "version": 2
   },
   "file_extension": ".py",
   "mimetype": "text/x-python",
   "name": "python",
   "nbconvert_exporter": "python",
   "pygments_lexer": "ipython2",
   "version": "2.7.12"
  }
 },
 "nbformat": 4,
 "nbformat_minor": 2
}
