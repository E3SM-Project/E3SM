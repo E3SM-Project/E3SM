{
 "cells": [
  {
   "cell_type": "markdown",
   "metadata": {
    "deletable": true,
    "editable": true
   },
   "source": [
    "# ACME Diagnostics Package"
   ]
  },
  {
   "cell_type": "markdown",
   "metadata": {
    "deletable": true,
    "editable": true
   },
   "source": [
    "## Table of Contents\n",
    "1. [Overview](#overview)\n",
    "2. [Current State](#current-state)\n",
    "3. [Installation, Configuration, and Usage](#users-guide)\n"
   ]
  },
  {
   "cell_type": "markdown",
   "metadata": {
    "deletable": true,
    "editable": true
   },
   "source": [
    "## Overview<a name=\"overview\"></a>"
   ]
  },
  {
   "cell_type": "markdown",
   "metadata": {
    "deletable": true,
    "editable": true
   },
   "source": [
    "This diagnostics package is constructed for supporting the diagnostics task of DOE's [Accelerated Climate Modeling for Energy (ACME) project](https://climatemodeling.science.energy.gov/projects/accelerated-climate-modeling-energy). The goal of this work is to develop a comprehensive diagnostics package that:\n",
    "\n",
    "* fully integrates the functionality of NCAR's AMWG diagnostics package.\n",
    "* utilizes most updated observational datasets, including remote sensing, reanalysis and in-situ datasets. \n",
    "* interfaces with diagnostics developed from different ACME focus groups: atmosphere group, coupled simulation group, land group.\n",
    "* interacts effectively with the PCMDI's metrics package and the ARM diagnostics package through a unifying framework: [Community Diagnostics Package (CDP)](https://github.com/UV-CDAT/cdp).\n",
    "* is flexible for user specified diagnostics and being configured for use by other climate models."
   ]
  },
  {
   "cell_type": "markdown",
   "metadata": {
    "deletable": true,
    "editable": true
   },
   "source": [
    "## Current State <a name=\"current-state\"></a>"
   ]
  },
  {
   "cell_type": "markdown",
   "metadata": {},
   "source": [
    "Algorithm and visulization codes for the AMWG set5 diagnostics, namely 2D-field contour plots for climatology seasonal means [Figure1], is done for testing. \n",
    "\n",
    "The package enables the AMWG set5 diagnostics and features built-in user diagnostics, by specifying user desired diagnostics regions and pressure levels for variables with the vertical dimension. "
   ]
  },
  {
   "cell_type": "markdown",
   "metadata": {},
   "source": [
    "<img src=\"example_fig1.png\" alt=\"Figure1\" style=\"width: 500px;\"/>\n",
    "<h5 align=\"center\">Figure 1: An example of the 2D-field contour plots for air temperature at 850 mb with tropical ocean region considered.</h5> "
   ]
  },
  {
   "cell_type": "markdown",
   "metadata": {
    "deletable": true,
    "editable": true
   },
   "source": [
    "## Installation, Configuration, and Usage<a name=\"users-guide\"></a>"
   ]
  },
  {
   "cell_type": "markdown",
   "metadata": {
    "deletable": true,
    "editable": true
   },
   "source": [
    "### Install\n"
   ]
  },
  {
   "cell_type": "markdown",
   "metadata": {},
   "source": [
    "### Configuration\n",
    "Three steps to configure the package:\n",
    "* Edit set5basicparameter.py under **/acme_diags/plotset5** to set up basic parameters, such as model output path, observational data path, regrid method, plotting backend etc. An example **set5basicparameter.py** is shown below. A full list of options can be found [EMPTY].\n"
   ]
  },
  {
   "cell_type": "code",
   "execution_count": 8,
   "metadata": {
    "collapsed": false
   },
   "outputs": [],
   "source": [
    "\n",
    "reference_data_path = '/Users/zhang40/Documents/AIMS/amwg/amwg20140804/obs_data_20140804/'# path for reference data\n",
    "test_data_path = '/Users/zhang40/Documents/ACME_simulations/'                             # path for model data\n",
    "\n",
    "test_name = '20160520.A_WCYCL1850.ne30'\n",
    "\n",
    "regrid_tool = 'esmf'\n",
    "regrid_method = 'linear'\n",
    "\n",
    "#test_title = 'Model'\n",
    "#reference_title = 'Observation'\n",
    "\n",
    "backend = 'vcs'\n",
    "#backend = 'cartopy'\n",
    "#format = ['png']\n",
    "\n",
    "diff_title = 'test - reference'\n",
    "diff_colormap = 'bl_to_darkred'\n",
    "\n",
    "canvas_size_w = 1212\n",
    "canvas_size_h = 1628             "
   ]
  },
  {
   "cell_type": "markdown",
   "metadata": {},
   "source": [
    "* Edit json file to include information for diagnostics. An example **set5_diags_MERRA_domains.json** is shown below"
   ]
  },
  {
   "cell_type": "code",
   "execution_count": 9,
   "metadata": {
    "collapsed": false
   },
   "outputs": [
    {
     "data": {
      "text/plain": [
       "{'set5': [{'case_id': 'set5_MERRA',\n",
       "   'levels': [200.0, 850.0],\n",
       "   'ref_name': 'MERRA',\n",
       "   'reference_name': 'MERRA Analysis 1979-2013 NASA',\n",
       "   'region': ['land', 'ocean_TROPICS'],\n",
       "   'season': ['ANN', 'JJA'],\n",
       "   'variables': 'T'}]}"
      ]
     },
     "execution_count": 9,
     "metadata": {},
     "output_type": "execute_result"
    }
   ],
   "source": [
    "{\n",
    "        \"set5\": [\n",
    "\n",
    "          {\n",
    "      \"case_id\": \"set5_MERRA\",                            #Diagnostics results are saved in a folder named by case_id\n",
    "      \"variables\": \"T\",                                   #Variables, ref_name, and season are key words for obs file searching   \n",
    "      \"ref_name\": \"MERRA\",\n",
    "      \"reference_name\": \"MERRA Analysis 1979-2013 NASA\",\n",
    "      \"season\": [\"ANN\",\"JJA\"],\n",
    "      \"levels\": [200.0,850.0],                            #User specified pressure levels.\n",
    "      \"region\": [\"land\",\"ocean_TROPICS\"]                  #User specified regions, default region is \"global\" if region is empty,\n",
    "                }                                         #A full list of regions can be found at acme_diags/derivations/default_regions\n",
    "          ]\n",
    "\n",
    "}"
   ]
  },
  {
   "cell_type": "markdown",
   "metadata": {},
   "source": [
    "* load json file in **set5_driver.py**. To test the original AMWG observation list, load the file set5_diags_AMWG_default.json"
   ]
  },
  {
   "cell_type": "markdown",
   "metadata": {},
   "source": [
    "### Run "
   ]
  },
  {
   "cell_type": "markdown",
   "metadata": {},
   "source": [
    "python set5_driver.py -p set5basicparameter.py"
   ]
  }
 ],
 "metadata": {
  "anaconda-cloud": {},
  "kernelspec": {
   "display_name": "Python [default]",
   "language": "python",
   "name": "python2"
  },
  "language_info": {
   "codemirror_mode": {
    "name": "ipython",
    "version": 2
   },
   "file_extension": ".py",
   "mimetype": "text/x-python",
   "name": "python",
   "nbconvert_exporter": "python",
   "pygments_lexer": "ipython2",
   "version": "2.7.12"
  }
 },
 "nbformat": 4,
 "nbformat_minor": 2
}
