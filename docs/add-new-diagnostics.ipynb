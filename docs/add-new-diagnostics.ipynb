{
 "cells": [
  {
   "cell_type": "markdown",
   "metadata": {
    "deletable": true,
    "editable": true
   },
   "source": [
    "# How to add new diagnostics"
   ]
  },
  {
   "cell_type": "markdown",
   "metadata": {
    "deletable": true,
    "editable": true
   },
   "source": [
    "When you get more familiar with running this package and think to create your own diagnostics, just follow this guide to build new diagnostics based on set5 diags."
   ]
  },
  {
   "cell_type": "markdown",
   "metadata": {
    "deletable": true,
    "editable": true
   },
   "source": [
    "**1\\. Specify pressure levels[units: mb] for 3-d variables:** \n",
    "\n",
    "For example, in **mydiags.json**, set:\n",
    "```\n",
    "\"levels\": [200.0,850.0]\n",
    "```\n",
    "You can put any level desired for diagnostics.\n",
    "\n",
    "or,\n",
    "\n",
    "set pressure level from command line:\n",
    "```\n",
    "set5_driver.py -p myparams.py -d mydiags.json --levels 200.0\n",
    "```\n",
    "\n",
    "**2\\. Specify regions for diagnostics:**\n",
    "\n",
    "For example, in **mydiags.json**, set:\n",
    "```\n",
    "\"region\": ['TROPICS','ocean_TROPICS']\n",
    "```\n",
    "\n",
    "or,\n",
    "\n",
    "set pressure level from command line:\n",
    "```\n",
    "set5_driver.py -p myparams.py -d mydiags.json --region 'TROPICS'\n",
    "```\n",
    "A list of built-in default regions can be found [here](https://github.com/zshaheen/acme_diags/blob/master/acme_diags/derivations/default_regions.py)\n",
    "\n",
    "**3\\. Add user derived variables [More advanced]:**\n",
    "   \n",
    "   We have a set of built-in derived variables dictionary for ACME model diagnostics [here](https://github.com/zshaheen/acme_diags/blob/master/acme_diags/derivations/acme.py). The driver looks into the derived_variables dictionary for variable keys and operations needed for deriving new variables (renaming, unit conversion, calculation...). If the you want to derive a new variable, please follow below steps:\n",
    "   "
   ]
  },
  {
   "cell_type": "markdown",
   "metadata": {},
   "source": [
    "In the python script **myparams.py**\n",
    "1\\. Define the operation for calculating derived variable:\n",
    "```python\n",
    "def albedo(solin, fsntoa):\n",
    "    \"\"\"TOA (top-of-atmosphere) albedo, (solin - fsntoa) / solin, unit is nondimension\"\"\"\n",
    "    var = (solin - fsntoa) / solin\n",
    "    var.units = \"dimensionless\"\n",
    "    var.long_name = \"TOA albedo\"\n",
    "    return var\n",
    "```\n",
    "2\\. Generate a new entry ('derived_var_key') to be appended to the built-in derived_variable dictionary:\n",
    "\n",
    "```python\n",
    "derived_variables = {\n",
    "    'ALBEDO': [\n",
    "        (['SOLIN', 'FSNTOA'], lambda solin, fsntoa: albedo(solin, fsntoa))\n",
    "    ]\n",
    "}\n",
    "```\n",
    "\n",
    "where the structure follows:\n",
    "```python\n",
    "derived_variables = {\n",
    "    'derived_var_key': [\n",
    "        (['output_var1','output_var2'], lambda var1,var2: function(var1,var2))\n",
    "    ]\n",
    "}\n",
    "# the output_var1 and output_var2 are varaibles output by models.\n",
    "```\n",
    "For expert users and developers, these two steps can be done by editing the [built-in script](https://github.com/zshaheen/acme_diags/blob/master/acme_diags/derivations/acme.p). And re-install the package by:\n",
    "```python\n",
    "python setup.py install\n",
    "```\n",
    "\n",
    "3.\\ In **mydiags.json**: generate a new entry for 'derived_var_key':\n",
    "For example:\n",
    "```json\n",
    "{\n",
    "    \"set5\": [\n",
    "          {\n",
    "      \"case_id\": \"set5_CERES-EBAF\",\n",
    "      \"variables\": \"ALBEDO\",\n",
    "      \"ref_name\": \"CERES-EBAF\",\n",
    "      \"reference_name\": \"CERES-EBAF March 2000-Feb 2013\",\n",
    "      \"season\": [\"ANN\"],\n",
    "                }\n",
    "              ]\n",
    "} \n",
    "```\n",
    "\n"
   ]
  },
  {
   "cell_type": "markdown",
   "metadata": {
    "collapsed": true,
    "deletable": true,
    "editable": true
   },
   "source": [
    "```python\n",
    "\n",
    "```"
   ]
  },
  {
   "cell_type": "markdown",
   "metadata": {
    "deletable": true,
    "editable": true
   },
   "source": [
    "```json\n",
    "\n",
    "```"
   ]
  }
 ],
 "metadata": {
  "anaconda-cloud": {},
  "kernelspec": {
   "display_name": "Python [default]",
   "language": "python",
   "name": "python2"
  },
  "language_info": {
   "codemirror_mode": {
    "name": "ipython",
    "version": 2
   },
   "file_extension": ".py",
   "mimetype": "text/x-python",
   "name": "python",
   "nbconvert_exporter": "python",
   "pygments_lexer": "ipython2",
   "version": "2.7.12"
  }
 },
 "nbformat": 4,
 "nbformat_minor": 2
}
