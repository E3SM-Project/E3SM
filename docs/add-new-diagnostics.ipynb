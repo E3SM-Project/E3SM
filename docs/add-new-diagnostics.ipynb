{
 "cells": [
  {
   "cell_type": "markdown",
   "metadata": {},
   "source": [
    "# How to Add New Diagnostics"
   ]
  },
  {
   "cell_type": "markdown",
   "metadata": {},
   "source": [
    "The following guide will explain how to add new diagnostics. There is also an example, detailing a sample process from start to finish."
   ]
  },
  {
   "cell_type": "markdown",
   "metadata": {},
   "source": [
    "## Adding New Diagnostics"
   ]
  },
  {
   "cell_type": "markdown",
   "metadata": {},
   "source": [
    "**Before you do this, please _actually_ read [Defining Parameters and All Available Parameters](available-parameters.ipynb). We're using json files to add multiple diagnostics.**"
   ]
  },
  {
   "cell_type": "markdown",
   "metadata": {},
   "source": [
    "### Examples of parameters"
   ]
  },
  {
   "cell_type": "markdown",
   "metadata": {},
   "source": [
    "The following examples of common parameters used in diagnostics. Again, for more parameters and detail, please refer to the Defining Parameters and All Available Parameters linked previously. When creating json files, it's recommended that you check your syntax using a linter (like [jsonlint](http://jsonlint.com/) to make sure that it's valid.\n",
    "\n",
    "* **Each run must have a `case_id`, which is the name of the folder where the outputs will be stored relative to the path of execution of ACME diags.**\n",
    "```json\n",
    "\"case_id\": \"set5_MERRA\",\n",
    "```\n",
    "* **Add in the name of the observations you're going to use.**\n",
    "```json\n",
    "\"ref_name\": \"MERRA\",\n",
    "```\n",
    "* **Currently, you can add one variable at a time. There will be support for multiple variables in the near future (we promise).**\n",
    "```json\n",
    "\"variables\": \"T\",\n",
    "```\n",
    "* **Regions are added like so. If no value for `region` is given, it's `global` by default. A full list of all regions is [here](https://github.com/zshaheen/acme_diags/blob/master/acme_diags/derivations/default_regions.py)**\n",
    "```json\n",
    "\"region\": [\"land\", \"ocean_TROPICS\"]\n",
    "```\n",
    "* **The following seasons are supported.**\n",
    "```json\n",
    "\"season\": [\"ANN\", \"DJF\", \"MAM\", \"JJA\", \"SON\"],\n",
    "```\n",
    "* **For 3-d variables, pressure levels can be added.**\n",
    "```json\n",
    "\"levels\": [200.0, 850.0]\n",
    "```"
   ]
  },
  {
   "cell_type": "markdown",
   "metadata": {},
   "source": [
    "### Adding derived variables"
   ]
  },
  {
   "cell_type": "markdown",
   "metadata": {},
   "source": [
    "We have a set of built-in derived variables for the ACME model diagnostics [here](https://github.com/zshaheen/acme_diags/blob/master/acme_diags/derivations/acme.py) (search for `derived_variables`). The diagnostics software looks into the `derived_variables` dictionary for variable keys and operations needed for deriving new variables (renaming, unit conversions, calculations, etc). \n",
    "\n",
    "If users want to, they can add their own derived variables, which is added to the default list during runtime and overwrite any default values if there's a collision. Since derived variables require code, such functionality cannot be added to json files. We do the following in the parameters script, which is a Python script (ex: the Python script is `myparams.py` in the command `set5_driver.py -p myparams.py -d mydiags.json`)."
   ]
  },
  {
   "cell_type": "markdown",
   "metadata": {},
   "source": [
    "#### Format of the `derived_variables` dictionary"
   ]
  },
  {
   "cell_type": "markdown",
   "metadata": {},
   "source": [
    "```python\n",
    "derived_variables = {\n",
    "    'user_inputted_var': {\n",
    "        ('output_var1', 'output_var2'): function_to_call\n",
    "    }\n",
    "}\n",
    "```"
   ]
  },
  {
   "cell_type": "markdown",
   "metadata": {},
   "source": [
    "Above is how a `derived_variables` dictionary is formatted. `'user_inputted_var'` is the variable that is defined in the `variables` part of the json file. `'output_var1'` and `'output_var2'` are the variables inside the `test_name` (model) file."
   ]
  },
  {
   "cell_type": "markdown",
   "metadata": {},
   "source": [
    "**Example of adding derived variables to a parameters script**"
   ]
  },
  {
   "cell_type": "markdown",
   "metadata": {},
   "source": [
    "```python\n",
    "# myparams.py\n",
    "\n",
    "def albedo_obs(rsdt, rsut):\n",
    "    \"\"\" TOA (top-of-atmosphere) albedo, (solin - fsntoa) / solin, unit is nondimension \"\"\"\n",
    "    var = rsut / rsdt\n",
    "    var.units = \"dimensionless\"\n",
    "    var.long_name = \"TOA albedo\"\n",
    "    return var\n",
    "\n",
    "derived_variables = {\n",
    "    'ALBEDO': {\n",
    "        ('rsdt', 'rsut'): albedo_obs\n",
    "    }\n",
    "}\n",
    "```"
   ]
  },
  {
   "cell_type": "markdown",
   "metadata": {},
   "source": [
    "The above code will allow it so that if `\"variables\": \"ALBEDO\"` in the json file and `rsdt` and `rsut` are variables in the test (model) file, the `albedo_obs()` function is ran on the `rsdt` and `rsut` variables from the test (model) file."
   ]
  },
  {
   "cell_type": "markdown",
   "metadata": {},
   "source": [
    "## Example"
   ]
  },
  {
   "cell_type": "markdown",
   "metadata": {},
   "source": [
    "The example below will do one diagnostics run globally with the `ALBEDO` variable, annually. Below is the json file, call it `mydiags.json`."
   ]
  },
  {
   "cell_type": "markdown",
   "metadata": {},
   "source": [
    "```json\n",
    "{\n",
    "    \"set5\": [\n",
    "        {\n",
    "            \"case_id\": \"set5_CERES\",\n",
    "            \"variables\": \"ALBEDO\",\n",
    "            \"ref_name\": \"edition_4_ceres_ebaf_toa\",\n",
    "            \"reference_name\": \"edition_4_ceres_ebaf_toa\",\n",
    "            \"season\": [\"ANN\"],\n",
    "            \"region\": [\"global\"],\n",
    "            \"contour_levels\":[0.05, 0.1, 0.15, 0.2, 0.25, 0.3, 0.4, 0.5, 0.6, 0.7, 0.75, 0.8, 0.85, 0.9, 0.95],\n",
    "            \"diff_levels\":[-0.25, -0.2, -0.15, -0.1, -0.07, -0.05, -0.03, 0.0, 0.03, 0.05, 0.07, 0.1, 0.15, 0.2, 0.25]\n",
    "        }]\n",
    "}\n",
    "```"
   ]
  },
  {
   "cell_type": "markdown",
   "metadata": {},
   "source": [
    "And below is the parameters file, call it `myparams.py`. This is tested to run on aims4. To run on another machine, please edit the `reference_data_path`, `test_data_path`, and `test_name` accordingly."
   ]
  },
  {
   "cell_type": "markdown",
   "metadata": {},
   "source": [
    "```python\n",
    "reference_data_path = '/space1/test_data/CERES-EBAF/'\n",
    "test_data_path = '/space/golaz1/ACME_simulations/20160520.A_WCYCL1850.ne30_oEC.edison.alpha6_01/pp/clim_rgr/0070-0099/'\n",
    "\n",
    "test_name = '20160520.A_WCYCL1850.ne30'\n",
    "\n",
    "backend = 'vcs'\n",
    "diff_title = 'Test - Reference'\n",
    "diff_colormap = 'bl_to_darkred'\n",
    "\n",
    "def albedo_obs(rsdt, rsut):\n",
    "    \"\"\"TOA (top-of-atmosphere) albedo, (solin - fsntoa) / solin, unit is nondimension\"\"\"\n",
    "    var = rsut / rsdt\n",
    "    var.units = \"dimensionless\"\n",
    "    var.long_name = \"TOA albedo\"\n",
    "    return var\n",
    "\n",
    "derived_variables = {\n",
    "    'ALBEDO': {\n",
    "        ('rsdt', 'rsut'): albedo_obs\n",
    "    }\n",
    "}\n",
    "```"
   ]
  },
  {
   "cell_type": "markdown",
   "metadata": {},
   "source": [
    "Run the command like so: `set5_driver.py -p myparams.py -d mydiags.json`"
   ]
  }
 ],
 "metadata": {
  "anaconda-cloud": {},
  "kernelspec": {
   "display_name": "Python 2",
   "language": "python",
   "name": "python2"
  },
  "language_info": {
   "codemirror_mode": {
    "name": "ipython",
    "version": 2
   },
   "file_extension": ".py",
   "mimetype": "text/x-python",
   "name": "python",
   "nbconvert_exporter": "python",
   "pygments_lexer": "ipython2",
   "version": "2.7.13"
  }
 },
 "nbformat": 4,
 "nbformat_minor": 2
}
