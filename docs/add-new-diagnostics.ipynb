{
 "cells": [
  {
   "cell_type": "markdown",
   "metadata": {
    "deletable": true,
    "editable": true
   },
   "source": [
    "# How to add new diagnostics"
   ]
  },
  {
   "cell_type": "markdown",
   "metadata": {
    "deletable": true,
    "editable": true
   },
   "source": [
    "When you get more familiar with running this package and think to create your own diagnostics, just follow this guide to build new diagnostics based on set5 diags."
   ]
  },
  {
   "cell_type": "markdown",
   "metadata": {
    "deletable": true,
    "editable": true
   },
   "source": [
    "1\\. Specify pressure levels[units: mb] for 3-d variables: \n",
    "For example, in mydiags.json, set:\n",
    "```\n",
    "\"levels\": [200.0,850.0]\n",
    "```\n",
    "You can put any level desired for diagnostics.\n",
    "\n",
    "or,\n",
    "\n",
    "set pressure level from command line:\n",
    "```\n",
    "set5_driver.py -p myparams.py -d mydiags.json -levels 200.0\n",
    "```\n",
    "\n",
    "2\\. Specify regions for diagnostics:\n",
    "\n",
    "For example, in mydiags.json, set:\n",
    "```\n",
    "\"region\": ['TROPICS','ocean_TROPICS']\n",
    "```\n",
    "\n",
    "or,\n",
    "\n",
    "set pressure level from command line:\n",
    "```\n",
    "set5_driver.py -p myparams.py -d mydiags.json -region 'TROPICS'\n",
    "```\n",
    "A list of built-in default regions can be found here [link]\n",
    "\n",
    "3\\. Add User derived variables [More advanced]\n",
    "\n"
   ]
  },
  {
   "cell_type": "markdown",
   "metadata": {
    "collapsed": true,
    "deletable": true,
    "editable": true
   },
   "source": [
    "```python\n",
    "\n",
    "```"
   ]
  },
  {
   "cell_type": "markdown",
   "metadata": {
    "deletable": true,
    "editable": true
   },
   "source": [
    "```json\n",
    "\n",
    "```"
   ]
  }
 ],
 "metadata": {
  "anaconda-cloud": {},
  "kernelspec": {
   "display_name": "Python [default]",
   "language": "python",
   "name": "python2"
  },
  "language_info": {
   "codemirror_mode": {
    "name": "ipython",
    "version": 2
   },
   "file_extension": ".py",
   "mimetype": "text/x-python",
   "name": "python",
   "nbconvert_exporter": "python",
   "pygments_lexer": "ipython2",
   "version": "2.7.12"
  }
 },
 "nbformat": 4,
 "nbformat_minor": 2
}
